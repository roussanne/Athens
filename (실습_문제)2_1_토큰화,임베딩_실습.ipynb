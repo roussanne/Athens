{
  "cells": [
    {
      "cell_type": "markdown",
      "metadata": {
        "id": "view-in-github",
        "colab_type": "text"
      },
      "source": [
        "<a href=\"https://colab.research.google.com/github/roussanne/Athens/blob/master/(%EC%8B%A4%EC%8A%B5_%EB%AC%B8%EC%A0%9C)2_1_%ED%86%A0%ED%81%B0%ED%99%94%2C%EC%9E%84%EB%B2%A0%EB%94%A9_%EC%8B%A4%EC%8A%B5.ipynb\" target=\"_parent\"><img src=\"https://colab.research.google.com/assets/colab-badge.svg\" alt=\"Open In Colab\"/></a>"
      ]
    },
    {
      "cell_type": "markdown",
      "id": "1f4b6a34",
      "metadata": {
        "id": "1f4b6a34"
      },
      "source": [
        "### **Content License Agreement**\n",
        "\n",
        "<font color='red'><b>**WARNING**</b></font> : 본 자료는 삼성청년SW·AI아카데미의 컨텐츠 자산으로, 보안서약서에 의거하여 어떠한 사유로도 임의로 복사, 촬영, 녹음, 복제, 보관, 전송하거나 허가 받지 않은 저장매체를 이용한 보관, 제3자에게 누설, 공개 또는 사용하는 등의 무단 사용 및 불법 배포 시 법적 조치를 받을 수 있습니다."
      ]
    },
    {
      "cell_type": "markdown",
      "id": "add5dacf",
      "metadata": {
        "id": "add5dacf"
      },
      "source": [
        "### **Objectives**\n",
        "\n",
        "1. 실습명: 토큰화/임베딩 실습\n",
        "2. 핵심 주제\n",
        "    1) tokenizer를 이용하여 단어들을 토큰으로 변환하는 과정을 이해\n",
        "    2) 토큰화된 토큰들을 임베딩 벡터로 변환하는 과정을 이해\n",
        "    3) RNN부터 트랜스포머까지 모델의 발전사를 직접 체험하고 각 요소 기술의 역할을 이해\n",
        "3. 학습 목표\n",
        "    1) 토크나이저가 무엇이고 토큰화가 무엇인지에 대해서 설명할 수 있다.\n",
        "    2) 토큰화를 왜 하는지에 대해서 설명할 수 있다.\n",
        "    3) 토큰화된 토큰들을 임베딩 벡터로 변환하는 과정을 이해할 수 있다.\n",
        "    4) 임베딩 벡터를 이용하여 어떤 식으로 활용할 수 있는지 설명할 수 있다.\n",
        "    5) 다양한 모델의 발전사에 대해 직접 체험하고 각 아키텍쳐가 가지는 특징을 설명할 수 있다.\n",
        "\n",
        "4. 학습 개념\n",
        "    1) 토큰화:\n",
        "    2) 임베딩 벡터:\n",
        "    3) 인코더/디코더:\n",
        "  \n",
        "5. 학습 방향\n",
        "    - 실습은 아래 내용들을 직접 체험하고 각 아키텍쳐가 가지는 특징을 이해하는 것이 목표입니다.\n",
        "      - 토큰화\n",
        "      - 임베딩\n",
        "      - RNN\n",
        "      - LSTM\n",
        "      - 어텐션 메커니즘\n",
        "      - 인코더\n",
        "      - 디코더\n",
        "    - 실습 코드는 조교가 직접 구현한 코드를 참고하며 학습합니다.\n",
        "    - 자연스럽게 코드를 구현하면서 아키텍쳐의 발전사를 체험합니다.\n",
        "\n",
        "6. 데이터셋 개요 및 저작권 정보\n",
        "    - 데이터셋 명 : NSMC(Naver Sentiment Movie Corpus)\n",
        "    - 데이터셋 개요 : 네이버 영화 감정분석 데이터셋\n",
        "    - 데이터셋 저작권 : CC0 1.0"
      ]
    },
    {
      "cell_type": "markdown",
      "id": "c26eeb4b",
      "metadata": {
        "id": "c26eeb4b"
      },
      "source": [
        "### **Prerequisites**\n",
        "```\n",
        "numpy==2.0.2\n",
        "pandas==2.2.2\n",
        "tokenizers==0.21.4\n",
        "transformers==4.55.2\n",
        "torch==2.8.0+cu126\n",
        "```\n",
        "\n",
        "- 만약, 기본 코랩과 버전이 다르다면 아래 명령어를 복사해서 실행시켜주세요.\n",
        "```\n",
        "%pip install numpy==2.0.2 pandas==2.2.2 tokenizers==0.21.4 transformers==4.55.2 torch==2.8.0+cu126 --index-url https://download.pytorch.org/whl\n",
        "```"
      ]
    },
    {
      "cell_type": "code",
      "execution_count": 52,
      "id": "b1260a59",
      "metadata": {
        "id": "b1260a59"
      },
      "outputs": [],
      "source": [
        "import torch\n",
        "import torch.nn as nn\n",
        "import numpy as np\n",
        "from typing import (\n",
        "    Generic,\n",
        "    Tuple,\n",
        "    TypeVar,\n",
        "    List,\n",
        "    Union,\n",
        "    get_args\n",
        ")\n",
        "# 시드 설정\n",
        "np.random.seed(1234)\n",
        "torch.manual_seed(1234)\n",
        "torch.cuda.manual_seed(1234)\n",
        "torch.backends.cudnn.deterministic = True\n",
        "torch.backends.cudnn.benchmark = False\n",
        "\n",
        "Batch = TypeVar(\"Batch\", bound=int)\n",
        "Token = TypeVar(\"Token\", bound=int)\n",
        "Sequence = TypeVar(\"Sequence\", bound=int)\n",
        "Layers = TypeVar(\"Layers\", bound=int)\n",
        "HiddenStates = TypeVar(\"HiddenStates\", bound=int)\n",
        "VocabSize = TypeVar(\"VocabSize\", bound=int)\n",
        "EmbeddingSize = TypeVar(\"EmbeddingSize\", bound=int)\n",
        "MaxLength = TypeVar(\"MaxLength\", bound=int)\n",
        "\n",
        "_1D = TypeVar(\"_1D\")\n",
        "_2D = TypeVar(\"_2D\")\n",
        "_3D = TypeVar(\"_3D\")\n",
        "\n",
        "def _label_str(self) -> str:\n",
        "    \"\"\"인스턴스의 제네릭 라벨 이름을 예쁘게 표시 (e.g., [Sequence])\"\"\"\n",
        "    oc = getattr(self, \"__orig_class__\", None)\n",
        "    if oc is None:\n",
        "        return \"[]\"\n",
        "    args = get_args(oc)\n",
        "    names = [getattr(a, \"__name__\", str(a)) for a in args]\n",
        "    return \"[\" + \", \".join(names) + \"]\"\n",
        "\n",
        "\n",
        "class Tensor1D(Generic[_1D]):\n",
        "    def __init__(self, tensor: torch.Tensor):\n",
        "        assert tensor.dim() == 1, ValueError(\"Tensor must be 1-dimensional\")\n",
        "        self.tensor = tensor\n",
        "        self.s: _1D = tensor.size(0)  # sequence length\n",
        "\n",
        "    def size(self) -> Tuple[int, int]:\n",
        "        return self.tensor.size()\n",
        "\n",
        "    def __repr__(self) -> str:\n",
        "        return f\"Tensor(shape=({self.s}))\"\n",
        "\n",
        "class Tensor2D(Generic[_1D, _2D]):\n",
        "    def __init__(self, tensor: torch.Tensor):\n",
        "        assert tensor.dim() == 2, ValueError(\"Tensor must be 2-dimensional\")\n",
        "        self.tensor = tensor\n",
        "        self.b: _1D = tensor.size(0)  # batch size\n",
        "        self.s: _2D = tensor.size(1)  # sequence length\n",
        "        assert self.b == tensor.size(0), ValueError(\n",
        "            f\"Expected batch {self.b}, but got {tensor.size(0)}\"\n",
        "        )\n",
        "        assert self.s == tensor.size(1), ValueError(\n",
        "            f\"Expected Sequence {self.s}, but got {tensor.size(1)}\"\n",
        "        )\n",
        "\n",
        "    def size(self) -> Tuple[int, int]:\n",
        "        return self.tensor.size()\n",
        "\n",
        "    def __repr__(self) -> str:\n",
        "        return f\"Tensor(shape=({self.b}, {self.s}))\"\n",
        "\n",
        "\n",
        "class Tensor3D(Generic[_1D, _2D, _3D]):\n",
        "    def __init__(self, tensor: torch.Tensor):\n",
        "        assert tensor.dim() == 3, ValueError(\"Tensor must be 3-dimensional\")\n",
        "        self.tensor = tensor\n",
        "        self.b: _1D = tensor.size(0)  # batch size\n",
        "        self.s: _2D = tensor.size(1)  # sequence length\n",
        "        self.h: _3D = tensor.size(2)  # hidden state size\n",
        "        assert self.b == tensor.size(0), ValueError(\n",
        "            f\"Expected batch {self.b}, but got {tensor.size(0)}\"\n",
        "        )\n",
        "        assert self.s == tensor.size(1), ValueError(\n",
        "            f\"Expected Sequence {self.s}, but got {tensor.size(1)}\"\n",
        "        )\n",
        "        assert self.h == tensor.size(2), ValueError(\n",
        "            f\"Expected Hidden State {self.h}, but got {tensor.size(2)}\"\n",
        "        )\n",
        "\n",
        "    def size(self) -> Tuple[int, int]:\n",
        "        return self.tensor.size()\n",
        "\n",
        "    def __repr__(self) -> str:\n",
        "        return f\"Tensor(shape=({self.b}, {self.s}, {self.h}))\"\n"
      ]
    },
    {
      "cell_type": "markdown",
      "id": "d55eb901",
      "metadata": {
        "id": "d55eb901"
      },
      "source": [
        "# 1. 토크나이저 / 워드 임베딩\n",
        "\n",
        "- 학습 목표\n",
        "  1. 토크나이저를 학습할 수 있다.\n",
        "  2. 토크나이저를 사용하여 텍스트를 토큰 ID 시퀀스로 변환하는 방법을 이해하고 구현할 수 있ㅏ.\n",
        "- 학습 개념\n",
        "  1. 토크나이저\n",
        "  2. 토큰화\n",
        "  3. 임베딩\n",
        "- 진행하는 실습 요약\n",
        "  1. 제공된 말뭉치로 WordPiece 토크나이저를 훈련시키는 코드 한 줄을 완성\n",
        "  2. 훈련된 토크나이저를 사용해 특정 문장을 토큰 ID 시퀀스로 변환하는 코드\n",
        "  3. nn.Embedding 레이어(혹은 간단한 dict lookup)를 사용하여 주어진 토큰 ID에 해당하는 임베딩 벡터를 조회하는 코드"
      ]
    },
    {
      "cell_type": "markdown",
      "id": "c42fdfec",
      "metadata": {
        "id": "c42fdfec"
      },
      "source": [
        "### 1.1. Tokenizer 학습\n",
        "\n",
        "<blockquote>\n",
        "<b>🧠 토크나이저 학습</b><br>\n",
        "언어 모델에서 토크나이저는 텍스트를 토큰으로 변환하는 역할을 합니다. 토크나이저를 학습하는 방법에 대해 알아봅니다.\n",
        "</blockquote>\n",
        "\n",
        "토크나이저를 학습하기 위해서는 다음 두가지가 필요합니다.\n",
        "1. 토크나이저 객체(클래스)\n",
        "2. 학습 데이터\n"
      ]
    },
    {
      "cell_type": "markdown",
      "id": "9cc62bac",
      "metadata": {
        "id": "9cc62bac"
      },
      "source": [
        "그러면 우선 학습 데이터를 준비해보겠습니다.\n",
        "\n",
        "학습할 텍스트 데이터가 들어있는 파일을 준비합니다.\n",
        "\n",
        "여기서는 NSMC(Naver Sentiment Movie Corpus) 데이터셋을 사용하겠습니다.\n",
        "\n",
        "아래 명령어를 실행하여 데이터셋을 다운로드 받습니다."
      ]
    },
    {
      "cell_type": "code",
      "execution_count": 53,
      "id": "97b7effd",
      "metadata": {
        "colab": {
          "base_uri": "https://localhost:8080/"
        },
        "id": "97b7effd",
        "outputId": "de23ab48-1774-4d21-841e-136e2924d19a"
      },
      "outputs": [
        {
          "output_type": "stream",
          "name": "stdout",
          "text": [
            "--2025-10-16 03:31:04--  https://github.com/e9t/nsmc/raw/master/ratings.txt\n",
            "Resolving github.com (github.com)... 140.82.121.4\n",
            "Connecting to github.com (github.com)|140.82.121.4|:443... connected.\n",
            "HTTP request sent, awaiting response... 302 Found\n",
            "Location: https://raw.githubusercontent.com/e9t/nsmc/master/ratings.txt [following]\n",
            "--2025-10-16 03:31:04--  https://raw.githubusercontent.com/e9t/nsmc/master/ratings.txt\n",
            "Resolving raw.githubusercontent.com (raw.githubusercontent.com)... 185.199.111.133, 185.199.110.133, 185.199.109.133, ...\n",
            "Connecting to raw.githubusercontent.com (raw.githubusercontent.com)|185.199.111.133|:443... connected.\n",
            "HTTP request sent, awaiting response... 200 OK\n",
            "Length: 19515078 (19M) [text/plain]\n",
            "Saving to: ‘ratings.txt.2’\n",
            "\n",
            "\rratings.txt.2         0%[                    ]       0  --.-KB/s               \rratings.txt.2       100%[===================>]  18.61M  --.-KB/s    in 0.07s   \n",
            "\n",
            "2025-10-16 03:31:04 (256 MB/s) - ‘ratings.txt.2’ saved [19515078/19515078]\n",
            "\n"
          ]
        }
      ],
      "source": [
        "!wget https://github.com/e9t/nsmc/raw/master/ratings.txt"
      ]
    },
    {
      "cell_type": "markdown",
      "id": "facaabde",
      "metadata": {
        "id": "facaabde"
      },
      "source": [
        "데이터셋을 확인해봅니다."
      ]
    },
    {
      "cell_type": "code",
      "execution_count": 54,
      "id": "dd94219a",
      "metadata": {
        "colab": {
          "base_uri": "https://localhost:8080/"
        },
        "id": "dd94219a",
        "outputId": "f95ea8f3-6ff0-440b-feed-b817582d9330"
      },
      "outputs": [
        {
          "output_type": "stream",
          "name": "stdout",
          "text": [
            "학습에 필요한 파일이 존재합니다! ratings.txt\n",
            "리뷰 갯수 : 199992\n"
          ]
        }
      ],
      "source": [
        "import pandas as pd\n",
        "import os\n",
        "\n",
        "file_list = os.listdir()\n",
        "for file in file_list:\n",
        "    if \"ratings.txt\" == file:\n",
        "        print('학습에 필요한 파일이 존재합니다!', file)\n",
        "        df = pd.read_table( (os.getcwd() + '/' + file), encoding='utf-8') # 데이터 프레임으로 보기 편하게 바꿔줍시다!\n",
        "        df = df.dropna(how = 'any') # 널값을 없애줍니다!\n",
        "        print('리뷰 갯수 :', len(df))\n",
        "        df.head()"
      ]
    },
    {
      "cell_type": "markdown",
      "id": "ed3146be",
      "metadata": {
        "id": "ed3146be"
      },
      "source": [
        "텍스트 데이터가 있는 'document'열만을 가져오고\n",
        "\n",
        "해당 데이터를 txt 파일로 저장합니다."
      ]
    },
    {
      "cell_type": "code",
      "execution_count": 55,
      "id": "c0224daf",
      "metadata": {
        "colab": {
          "base_uri": "https://localhost:8080/"
        },
        "id": "c0224daf",
        "outputId": "760b4b66-063d-4c9b-95a4-03ce3d35fc23"
      },
      "outputs": [
        {
          "output_type": "stream",
          "name": "stdout",
          "text": [
            "어릴때보고 지금다시봐도 재밌어요ㅋㅋ\n",
            "디자인을 배우는 학생으로, 외국디자이너와 그들이 일군 전통을 통해 발전해가는 문화산업이 부러웠는데. 사실 우리나라에서도 그 어려운시절에 끝까지 열정을 지킨 노라노 같은 전통이있어 저와 같은 사람들이 꿈을 꾸고 이뤄나갈 수 있다는 것에 감사합니다.\n",
            "폴리스스토리 시리즈는 1부터 뉴까지 버릴께 하나도 없음.. 최고.\n",
            "와.. 연기가 진짜 개쩔구나.. 지루할거라고 생각했는데 몰입해서 봤다.. 그래 이런게 진짜 영화지\n",
            "안개 자욱한 밤하늘에 떠 있는 초승달 같은 영화.\n"
          ]
        }
      ],
      "source": [
        "# 텍스트 데이터가 있는 'document'열만을 가져오고\n",
        "documents = df['document']\n",
        "\n",
        "# 해당 데이터를 txt 파일로 저장합니다.\n",
        "with open('naver_review.txt', 'w', encoding='utf8') as f:\n",
        "    for doc in documents:\n",
        "        f.write(str(doc) + '\\n') # Convert to string before writing\n",
        "\n",
        "# 저장된 파일을 확인해봅니다.\n",
        "with open('naver_review.txt', 'r', encoding='utf8') as f:\n",
        "    for i in range(5):\n",
        "        print(f.readline().strip())"
      ]
    },
    {
      "cell_type": "code",
      "execution_count": 56,
      "id": "3fc2dec9",
      "metadata": {
        "id": "3fc2dec9"
      },
      "outputs": [],
      "source": [
        "import os\n",
        "import pandas as pd\n",
        "\n",
        "# CSV 파일 읽기 - ratings_train.txt 파일이 현재 작업 디렉토리에 있어야 합니다\n",
        "df = pd.read_csv(os.path.join(os.getcwd(), 'ratings.txt'), sep='\\t')"
      ]
    },
    {
      "cell_type": "code",
      "execution_count": 57,
      "id": "ffe4092a",
      "metadata": {
        "id": "ffe4092a"
      },
      "outputs": [],
      "source": [
        "import pandas as pd\n",
        "\n",
        "# CSV 파일 읽기\n",
        "df = pd.read_csv('ratings.txt', sep='\\t')"
      ]
    },
    {
      "cell_type": "markdown",
      "id": "252458b8",
      "metadata": {
        "id": "252458b8"
      },
      "source": [
        "학습이 되어 있지 않은 빈 tokenizer를 생성합니다.\n",
        "\n",
        "여기서는 BertWordPieceTokenizer를 불러옵니다.\n",
        "\n",
        "##### 파라미터:\n",
        "- `strip_accents` : 입력 텍스트의 악센트(액센트)를 제거할지 여부를 결정하는 옵션입니다. 한국어를 학습할때에는 `False`로 설정합니다.\n",
        "- `lowercase` : 영어를 모두 소문자로 바꿉니다. `False`로 설정하면 영어를 대문자로 유지합니다."
      ]
    },
    {
      "cell_type": "code",
      "execution_count": 58,
      "id": "9d919be5",
      "metadata": {
        "colab": {
          "base_uri": "https://localhost:8080/"
        },
        "id": "9d919be5",
        "outputId": "c9bbb782-c109-4bf1-a3fe-7faa8fbe7c93"
      },
      "outputs": [
        {
          "output_type": "execute_result",
          "data": {
            "text/plain": [
              "Tokenizer(vocabulary_size=0, model=BertWordPiece, unk_token=[UNK], sep_token=[SEP], cls_token=[CLS], pad_token=[PAD], mask_token=[MASK], clean_text=True, handle_chinese_chars=True, strip_accents=False, lowercase=False, wordpieces_prefix=##)"
            ]
          },
          "metadata": {},
          "execution_count": 58
        }
      ],
      "source": [
        "from tokenizers import BertWordPieceTokenizer\n",
        "\n",
        "# 빈 tokenizer 생성 : vocabulary_size = 0 인 것을 확인하실 수 있습니다.\n",
        "tokenizer = BertWordPieceTokenizer(\n",
        "    lowercase=False,\n",
        "    strip_accents=False,\n",
        ")\n",
        "tokenizer"
      ]
    },
    {
      "cell_type": "markdown",
      "id": "3a4e500b",
      "metadata": {
        "id": "3a4e500b"
      },
      "source": [
        "아래 코드를 실행하여 토크나이저를 학습합니다.\n",
        "#### 파라미터 설명:\n",
        "- `data_file` : 데이터 경로를 지정해줍니다. list 형태로 여러개의 파일을 지정해줄수도 있습니다.\n",
        "- `vocab_size (default: 30000)` : 단어사전 크기를 지정할 수 있습니다. 어떠한 값이 가장 좋다는 것은 없지만, 값이 클수록 많은 단어의 의미를 담을 수 있습니다.\n",
        "- `initial_alphabet` : 꼭 포함됐으면 하는 initial alphabet을 학습 전에 추가해줍니다.\n",
        "    - initial은 학습하기 이전에 미리 단어를 vocab에 넣는 것을 의미합니다.\n",
        "    - special token들도 initial에 vocab에 추가됩니다.\n",
        "- `limit_alphabet (default: 1000)` : initial tokens의 갯수를 제한합니다.\n",
        "- `min_frequency (default: 2)` : 최소 빈도수를 의미합니다. 만약 어떤 단어가 1번 나오면 vocab에 추가하지 않습니다.\n",
        "- `special_tokens` : 특수 토큰을 넣을 수 있습니다.. BERT에는 다음과 같은 토큰이 들어가야 합니다.\n",
        "    - `[PAD]` : 패딩을 위한 토큰\n",
        "    - `[UNK]` : OOV 단어를 위한 토큰\n",
        "    - `[CLS]` : 문장의 시작을 알리고 분류 문제에 사용되는 토큰\n",
        "    - `[SEP]` : 문장 사이사이를 구별해주는 토큰\n",
        "    - `[MASK]` : MLM 태스크를 위한 마스크 토큰\n",
        "- `wordpiece_prefix(default: '##')` : sub-word라는 것을 알려주는 표시입니다.\n",
        "    - BERT는 기본적으로 '##'을 씁니다.\n",
        "    - 예를 들어, `SS, ##AF, ##Y` 처럼 sub-word를 구분하기 위해 '##'을 사용합니다.\n",
        "- `show_progress` : 학습 과정을 보여줍니다."
      ]
    },
    {
      "cell_type": "code",
      "execution_count": 59,
      "id": "82aa578c",
      "metadata": {
        "colab": {
          "base_uri": "https://localhost:8080/"
        },
        "id": "82aa578c",
        "outputId": "1f211b76-3a53-49cc-878e-f77799b329c4"
      },
      "outputs": [
        {
          "output_type": "stream",
          "name": "stdout",
          "text": [
            "vocab size :  30000\n",
            "['[PAD]', '[UNK]', '[CLS]', '[SEP]', '[MASK]', '!', '\"', '#', '$', '%', '&', \"'\", '(', ')', '*', '+', ',', '-', '.', '/']\n"
          ]
        }
      ],
      "source": [
        "data_file = 'naver_review.txt'\n",
        "vocab_size = 30000\n",
        "min_frequency = 2\n",
        "initial_alphabet = []\n",
        "limit_alphabet = 6000\n",
        "special_tokens = [\"[PAD]\", \"[UNK]\", \"[CLS]\", \"[SEP]\", \"[MASK]\"]\n",
        "wordpieces_prefix = \"##\"\n",
        "show_progress=True\n",
        "\n",
        "tokenizer.train(\n",
        "    files = data_file,\n",
        "    vocab_size = vocab_size,\n",
        "    min_frequency = min_frequency,\n",
        "    initial_alphabet = initial_alphabet,\n",
        "    limit_alphabet = limit_alphabet,\n",
        "    special_tokens = special_tokens,\n",
        "    wordpieces_prefix = wordpieces_prefix,\n",
        "    show_progress = True,\n",
        ")\n",
        "\n",
        "vocab = tokenizer.get_vocab()\n",
        "print(\"vocab size : \", len(vocab))\n",
        "print(sorted(vocab, key=lambda x: vocab[x])[:20])"
      ]
    },
    {
      "cell_type": "markdown",
      "id": "83244f41",
      "metadata": {
        "id": "83244f41"
      },
      "source": [
        "### 1.2. 토크나이저를 이용한 토큰 ID 시퀀스 반환\n",
        "\n",
        "<blockquote>\n",
        "<b>🧠 토크나이저를 이용한 토큰 ID 시퀀스 반환</b><br>\n",
        "모델이 토큰을 이해하기 위해서는 정수값으로 반환하는 과정이 필요합니다. 토크나이저를 이용하여 텍스트 토큰을 ID 시퀀스로 변환합니다.\n",
        "</blockquote>\n",
        "\n",
        "아래 코드를 실행하여 토크나이저를 이용하여 텍스트 토큰을 ID 시퀀스로 변환합니다."
      ]
    },
    {
      "cell_type": "code",
      "execution_count": 60,
      "id": "a26d8b6b",
      "metadata": {
        "colab": {
          "base_uri": "https://localhost:8080/"
        },
        "id": "a26d8b6b",
        "outputId": "6f996e19-2903-489b-c607-f130986aad8d"
      },
      "outputs": [
        {
          "output_type": "stream",
          "name": "stdout",
          "text": [
            "🌱토큰화 결과 : ['I', \"'\", 'm', 'a', 'st', '##ud', '##ent', 'of', 'S', '##S', '##A', '##F', '##Y', '!']\n",
            "🌱정수 인코딩 : [45, 11, 81, 69, 15444, 24892, 16071, 10280, 55, 3678, 4338, 3859, 4272, 5]\n",
            "🌈디코딩 : I ' m a student of SSAFY!\n"
          ]
        }
      ],
      "source": [
        "text = \"I'm a student of SSAFY!\"\n",
        "\n",
        "encoded = tokenizer.encode(text)\n",
        "print('🌱토큰화 결과 :',encoded.tokens)\n",
        "print('🌱정수 인코딩 :',encoded.ids)\n",
        "print('🌈디코딩 :',tokenizer.decode(encoded.ids))"
      ]
    },
    {
      "cell_type": "markdown",
      "id": "884cec1b",
      "metadata": {
        "id": "884cec1b"
      },
      "source": [
        "<blockquote>\n",
        "<b>🧠 토크나이저를 이용한 모델 입력 만들기</b><br>\n",
        "그렇다면 모델의 입력으로 넣기 위해서는 어떤 방식으로 토크나이징을 해야 할까요?\n",
        "</blockquote>\n",
        "\n",
        "위에 대한 답변은 앞으로 실습 코드를 진행하면서 나오기 때문에 이 점을 잊지 말고 계속 따라가시기 바랍니다."
      ]
    },
    {
      "cell_type": "markdown",
      "id": "7a906dbd",
      "metadata": {
        "id": "7a906dbd"
      },
      "source": [
        "### 1.3. 임베딩 벡터\n",
        "\n",
        "<blockquote>\n",
        "<b>🧠 토큰 ID에 따라 어떤 방식으로 벡터화가 될까요?</b><br>\n",
        "토큰 ID에 해당하는 임베딩 벡터를 확인해보겠습니다.\n",
        "</blockquote>\n",
        "\n",
        "아래 코드를 실행하여 특정 토큰 ID에 따른 임베딩 벡터를 확인해보겠습니다.\n",
        "\n",
        "임베딩 벡터는 torch의 nn.Embedding 모듈을 사용하여 생성됩니다. 해당 임베딩 벡터는 모두 임의의 값으로 초기화됩니다."
      ]
    },
    {
      "cell_type": "code",
      "execution_count": 61,
      "id": "db1e9b06",
      "metadata": {
        "id": "db1e9b06"
      },
      "outputs": [],
      "source": [
        "embedding_vector = nn.Embedding(vocab_size, 768)"
      ]
    },
    {
      "cell_type": "markdown",
      "id": "e7e6473c",
      "metadata": {
        "id": "e7e6473c"
      },
      "source": [
        "임베딩 벡터를 초기화하려고 하니 다음 두가지 파라미터를 반드시 넣으라고 합니다.\n",
        "\n",
        "1. `num_embeddings`: 임베딩 사전의 크기 (size of the dictionary of embeddings)\n",
        "2. `embedding_dim`: 각 임베딩 벡터의 차원 (the size of each embedding vector)\n",
        "\n",
        "<blockquote>\n",
        "<b>🧠 num_embeddings </b><br>\n",
        "임베딩 사전의 크기는 무슨 의미일까요?\n",
        "</blockquote>\n",
        "\n",
        "여기서 `num_embeddings`는 고유한 토큰(단어, 문자 등)의 총 개수를 의미합니다. 즉, 어떤 `인덱스 → 벡터` 매핑 테이블을 만들 건데, 그 테이블에 몇 개의 항목이 들어가야 하는지를 정의하는 값입니다. tokenizer를 만들때 `vocab_size`와 동일한 값을 의미합니다.\n",
        "\n",
        "<blockquote>\n",
        "<b>🧠 embedding_dim </b><br>\n",
        "각 임베딩 벡터의 차원은 무슨 의미일까요?\n",
        "</blockquote>\n",
        "\n",
        "`embedding_dim`은 각 단어(또는 토큰)가 표현되는 벡터의 길이입니다. 즉, 하나의 단어를 어떤 숫자 벡터로 나타낼 때 그 벡터가 몇 차원인지 정하는 값입니다. 보통의 embedding은 `768`, `1024` 등 2의 제곱수 차원을 사용합니다. (\"어떤 값이 정답이다\" 하는 값이 있는 건 아닙니다.)\n",
        "\n",
        "여기서는 vocab_size와 embedding_dim을 768로 정의해보겠습니다."
      ]
    },
    {
      "cell_type": "code",
      "execution_count": 62,
      "id": "d9723eee",
      "metadata": {
        "colab": {
          "base_uri": "https://localhost:8080/"
        },
        "id": "d9723eee",
        "outputId": "a05053a9-6373-40bc-b9c0-c38ba0421416"
      },
      "outputs": [
        {
          "output_type": "execute_result",
          "data": {
            "text/plain": [
              "torch.Size([30000, 768])"
            ]
          },
          "metadata": {},
          "execution_count": 62
        }
      ],
      "source": [
        "embedding_vector: Tensor2D[VocabSize, EmbeddingSize] = nn.Embedding(vocab_size, 768)\n",
        "embedding_vector.weight.shape"
      ]
    },
    {
      "cell_type": "markdown",
      "id": "98a9214e",
      "metadata": {
        "id": "98a9214e"
      },
      "source": [
        "그러면 특정 토큰의 임베딩 벡터를 확인해보겠습니다."
      ]
    },
    {
      "cell_type": "code",
      "execution_count": 63,
      "id": "8b4c3059",
      "metadata": {
        "colab": {
          "base_uri": "https://localhost:8080/"
        },
        "id": "8b4c3059",
        "outputId": "54d47afb-81d5-4ea8-8a68-63cf3b1c4d0d"
      },
      "outputs": [
        {
          "output_type": "stream",
          "name": "stdout",
          "text": [
            "token_id: 45\n",
            "input_id 차원: torch.Size([1])\n",
            "vector 차원: torch.Size([1, 768])\n",
            "vector: tensor([[ 2.0713e-04, -1.0795e-01, -1.0739e+00, -9.6976e-01, -2.9640e-01,\n",
            "          7.6254e-01, -1.5894e+00,  4.7854e-01, -1.2304e+00,  2.3961e-01,\n",
            "         -3.1191e-01, -8.4522e-01,  1.4816e+00,  3.8595e-01, -1.1367e+00,\n",
            "         -8.6317e-01,  1.5040e+00, -9.3336e-02,  2.9453e-01, -4.7926e-02,\n",
            "         -6.6803e-01, -1.2190e+00, -8.7034e-02, -2.4750e-01,  6.8342e-01,\n",
            "         -8.3985e-01, -8.5719e-01,  9.4026e-01,  6.8466e-01,  2.1210e+00,\n",
            "         -6.0650e-01,  4.0380e-01, -9.0871e-01,  6.9575e-01,  2.4129e+00,\n",
            "         -1.5025e+00, -2.8435e-01,  3.1574e-01,  2.8680e-01, -6.1668e-01,\n",
            "         -1.9330e+00, -4.4828e-02, -2.4540e-01,  2.1067e+00, -1.0078e+00,\n",
            "         -7.6053e-02, -8.8781e-01,  1.3249e+00,  6.8391e-01, -9.7641e-01,\n",
            "         -3.6913e-01,  6.9565e-01, -5.8386e-02, -1.0664e+00, -1.0686e+00,\n",
            "         -9.5853e-01,  4.2346e-01, -2.3637e-01, -4.4244e-02, -1.9801e-01,\n",
            "          9.3793e-01,  1.2641e+00, -6.6924e-02,  1.7112e+00,  8.0241e-01,\n",
            "          1.2661e+00, -2.5692e-01, -8.3227e-01, -1.1272e+00,  7.1035e-01,\n",
            "         -5.8235e-01,  1.1980e+00, -1.5251e+00,  1.2271e+00, -4.5184e-01,\n",
            "         -2.0873e-01, -3.2379e-01,  3.0421e-01,  1.1284e+00,  1.0171e+00,\n",
            "         -1.9683e+00, -1.9030e-01, -4.3647e-01,  1.2564e+00,  3.9769e-01,\n",
            "          4.1677e-01,  3.2078e-02, -5.8466e-01, -8.1500e-01,  1.6868e+00,\n",
            "          5.0248e-01, -1.0446e+00,  1.1873e+00, -1.9425e+00, -2.1739e-01,\n",
            "         -1.3489e+00,  6.6195e-01, -1.4726e-01, -1.3846e+00,  1.0300e+00,\n",
            "          3.1743e-01, -3.9341e-01,  9.3555e-01, -3.4749e-01, -1.5786e+00,\n",
            "          4.8289e-02, -4.1771e-01, -7.9663e-01, -1.6005e+00, -6.0178e-01,\n",
            "         -2.0022e-01, -6.9256e-01,  5.2159e-01, -1.5585e-01,  1.1218e+00,\n",
            "          1.1725e+00,  2.0784e+00, -1.0410e+00, -1.1791e-01, -1.4969e-01,\n",
            "         -1.2180e+00, -1.4946e+00, -1.9396e-01,  8.5281e-01,  2.6152e+00,\n",
            "          3.6347e-01, -5.6037e-01, -1.0497e+00,  8.1007e-01,  4.9879e-01,\n",
            "          1.3643e-01, -7.5473e-01, -2.0255e-01, -4.5587e-01, -9.6390e-01,\n",
            "         -4.2510e-01, -2.7246e-02,  8.5584e-01, -3.5771e-01, -2.4743e-02,\n",
            "         -2.6084e-01,  1.5148e+00,  1.3258e-01, -6.2920e-01,  1.5951e-01,\n",
            "          2.2045e+00, -1.2532e+00,  1.6942e-01, -1.1335e+00,  8.2020e-01,\n",
            "          7.3021e-01, -5.4987e-02, -1.7318e+00, -4.3086e-01, -2.8705e-01,\n",
            "         -7.0542e-01, -2.4856e-01, -8.5487e-01, -5.9225e-01,  5.0255e-01,\n",
            "         -1.5564e+00, -1.5718e+00, -7.5013e-01, -8.6693e-01,  1.3421e+00,\n",
            "          9.4937e-01,  3.8601e-01, -6.7356e-01, -3.0415e-01,  7.9816e-01,\n",
            "          9.9137e-01, -8.0145e-01, -1.9374e+00, -9.4053e-01, -5.9608e-01,\n",
            "         -3.1874e-01,  1.6088e+00,  2.6323e-01,  1.5201e-01,  7.0019e-01,\n",
            "         -1.4430e+00,  6.1035e-01, -6.0492e-01,  3.3911e-01,  5.5742e-01,\n",
            "         -1.3929e+00,  3.5536e-01, -8.6571e-02, -1.0249e+00, -2.3527e-01,\n",
            "         -5.0020e-01,  2.0034e+00,  1.2555e+00, -4.1864e-01, -4.4315e-01,\n",
            "         -9.6532e-01, -2.3370e+00, -1.0564e+00, -3.4918e-01,  1.6569e+00,\n",
            "          7.9031e-01,  6.7679e-01, -1.3068e+00,  1.4872e+00,  1.5848e+00,\n",
            "         -1.8350e+00,  9.6536e-01, -1.4977e-01, -1.5099e+00, -6.0406e-01,\n",
            "          4.0286e-01, -1.4075e+00, -3.9743e-02,  1.6568e+00,  7.0180e-01,\n",
            "          6.2425e-01,  7.9358e-01,  8.8209e-01,  1.1990e+00, -8.5436e-01,\n",
            "          5.7296e-01, -7.8133e-01, -2.0901e-01, -1.4561e+00, -1.4860e+00,\n",
            "          2.4003e-01, -1.6978e-01,  1.0041e+00, -4.6784e-02, -1.7536e+00,\n",
            "          5.6021e-01,  7.5445e-01,  1.3471e+00,  9.5209e-03, -1.7701e-01,\n",
            "         -8.3801e-01,  4.7262e-01, -1.2984e-01,  4.5796e-01, -8.3288e-01,\n",
            "         -3.2026e-01, -3.5995e-01,  1.9787e+00,  1.7680e-01,  7.5168e-01,\n",
            "         -2.8786e-01, -2.3238e-01,  1.5264e+00, -1.8972e+00, -3.4950e-01,\n",
            "         -1.5705e+00, -5.3320e-02, -1.6938e-01,  2.7193e-01, -3.8178e-01,\n",
            "         -2.6780e-01, -1.0133e+00, -1.6670e+00, -1.4950e+00, -1.9356e+00,\n",
            "          5.8888e-01,  7.0056e-02,  1.6597e-01,  9.7821e-01,  3.0223e-02,\n",
            "         -1.1810e+00, -1.9377e-01, -6.5227e-01,  2.5600e-01,  1.2271e+00,\n",
            "         -7.9037e-01, -5.3363e-01, -3.3414e-01, -7.2781e-02,  3.9800e-01,\n",
            "          1.6861e+00,  9.2581e-01,  3.5787e-01,  6.8375e-01,  7.5456e-01,\n",
            "         -7.9542e-01, -1.7204e-01, -3.8017e-01,  4.8422e-01,  5.8573e-01,\n",
            "         -5.2136e-02, -1.4256e+00, -5.8997e-01, -1.2442e+00,  2.8576e-01,\n",
            "          8.3526e-02,  4.9882e-01,  1.1603e-01, -6.3950e-01, -4.5743e-03,\n",
            "          9.0260e-01,  1.2408e+00, -1.1824e+00,  9.6225e-01,  8.0122e-02,\n",
            "          6.5912e-01, -5.1970e-01, -8.7232e-01, -2.1224e+00,  1.8957e+00,\n",
            "          7.6320e-01,  4.1396e-01, -1.8275e+00, -1.6881e+00, -3.3413e-01,\n",
            "          1.2723e+00,  3.2137e-01,  1.6238e+00,  1.1277e-01,  1.6792e+00,\n",
            "         -7.4009e-01,  6.0861e-02,  1.7916e+00,  8.2446e-01, -1.1094e+00,\n",
            "          2.7859e-01,  8.7946e-02, -7.7628e-01,  2.3084e-01, -6.1644e-01,\n",
            "         -1.0193e-01,  2.3658e-01, -3.1605e+00, -6.7226e-01,  1.0889e+00,\n",
            "         -8.7916e-01,  7.8152e-01, -1.4162e+00,  3.2730e-02,  2.0366e+00,\n",
            "          1.2683e+00,  3.5404e-01, -4.8214e-01, -2.5845e-01,  6.8233e-01,\n",
            "          2.8618e+00, -4.0136e-01,  9.3530e-01, -5.7651e-01,  1.3865e+00,\n",
            "         -8.3649e-02, -6.2003e-01,  8.0114e-01, -2.7877e-01, -8.8478e-01,\n",
            "         -8.9682e-01,  7.2056e-01,  1.0741e+00,  3.6830e-01, -6.9001e-01,\n",
            "         -1.7268e+00,  5.8063e-01, -1.5600e-01,  2.4409e-01, -1.3078e+00,\n",
            "          5.7613e-01, -2.7964e-01, -3.6931e-03,  2.8858e-01, -1.3775e+00,\n",
            "          2.3371e-01,  2.9086e-01,  4.5851e-01, -2.8285e-01, -1.5130e-01,\n",
            "         -6.4791e-01,  1.1064e+00, -7.7336e-01,  1.3814e+00,  1.7469e+00,\n",
            "         -7.1068e-01,  1.5996e+00,  1.8159e+00, -7.0736e-01,  2.7690e-01,\n",
            "         -4.0973e-01, -1.4407e+00, -2.8664e-01,  2.5115e-01, -4.8783e-01,\n",
            "          6.6364e-01,  1.2986e+00,  1.9475e-01, -3.5842e-01, -1.1414e+00,\n",
            "         -4.0844e-01,  1.2142e+00,  9.7572e-01, -1.5652e+00,  1.1139e-01,\n",
            "          5.5448e-01,  1.5972e+00,  7.9814e-01,  1.7837e+00, -1.3518e+00,\n",
            "         -1.7997e+00,  1.5790e+00, -1.6621e+00, -1.0134e+00,  1.2729e+00,\n",
            "          7.1576e-01, -5.4963e-01, -6.8171e-01, -1.4879e+00,  6.2125e-01,\n",
            "          1.8148e+00,  3.2584e-01, -6.1284e-01,  2.9061e-02,  3.4096e-01,\n",
            "          7.1091e-01,  8.3027e-02,  2.7736e-01, -1.1799e+00, -1.4866e+00,\n",
            "          6.5442e-01, -1.9699e-01, -3.5849e-02, -4.5477e-01,  2.3679e+00,\n",
            "          5.8209e-03,  2.7314e-01, -2.2393e-01,  1.0405e+00, -5.6112e-01,\n",
            "          9.9677e-01, -1.3557e-01, -5.2096e-01, -1.0631e+00, -1.0457e+00,\n",
            "          8.8994e-01,  3.6646e-01,  1.7225e+00, -8.5651e-01, -2.4589e-01,\n",
            "         -1.4356e+00,  1.3690e-01, -1.6600e+00,  5.4300e-01,  1.0367e+00,\n",
            "         -8.0261e-01, -6.9170e-01,  2.5633e-01, -1.1672e+00,  1.0551e-01,\n",
            "          1.5048e+00, -3.8889e-01, -2.1096e+00,  1.6317e+00, -1.0690e+00,\n",
            "          7.2013e-01,  6.2068e-01,  2.4284e+00, -1.2583e+00, -6.1946e-01,\n",
            "          5.4432e-01,  1.0828e+00,  5.1467e-01, -8.1849e-01,  3.6686e-01,\n",
            "         -1.7820e+00, -8.4808e-01,  3.2140e-02,  6.4025e-01,  1.3020e+00,\n",
            "         -3.8744e-01, -7.1150e-01, -1.3487e+00, -3.8814e-01, -3.3696e-01,\n",
            "         -9.8166e-01, -2.0755e+00, -2.0167e-01,  7.8074e-01, -3.0534e+00,\n",
            "         -1.1256e+00,  1.4179e+00,  5.0739e-01,  4.7335e-01,  7.3986e-01,\n",
            "          6.2401e-01, -7.7995e-01, -1.7821e-01,  1.0142e+00,  9.5214e-01,\n",
            "         -4.1683e-01,  8.7263e-01, -2.7849e-01,  2.0232e-01,  1.1295e+00,\n",
            "         -3.6664e-01, -1.4247e+00, -4.0329e-01, -6.8854e-01, -1.8021e+00,\n",
            "          6.4613e-01, -3.8417e-01, -8.5109e-01,  4.4659e-01,  2.8915e-01,\n",
            "         -2.3060e+00,  2.9283e-01, -1.4971e-01,  2.0167e-01, -7.9456e-01,\n",
            "          1.2113e+00,  2.3254e+00, -2.4051e-01, -9.3715e-01, -9.9359e-01,\n",
            "         -8.0339e-01, -2.0363e-01, -2.2883e+00,  1.1611e+00, -1.6270e+00,\n",
            "          1.5267e+00, -5.8283e-01,  1.5505e+00, -1.6372e+00, -4.7691e-01,\n",
            "         -1.0044e+00, -7.7517e-01,  4.8454e-01, -1.7970e+00, -8.6426e-01,\n",
            "          6.2454e-01, -5.4894e-01,  6.8392e-01, -2.2149e-01,  4.2471e-01,\n",
            "          5.1504e-01,  1.0838e+00,  1.1604e+00,  1.8494e-01, -4.0769e-01,\n",
            "          7.2237e-01, -2.1688e+00, -2.2222e-02,  2.1084e-01,  1.3227e+00,\n",
            "          1.4478e+00, -1.1699e+00,  2.0613e-01, -1.6541e-01, -1.2702e+00,\n",
            "          3.8868e-02, -1.7270e+00,  1.2475e+00,  5.6662e-01, -9.0516e-01,\n",
            "          4.6318e-01,  1.0169e+00,  8.5505e-01, -2.0402e+00,  7.3120e-02,\n",
            "          4.5866e-01, -1.5373e-01, -4.3166e-01, -6.2731e-01, -3.2338e-01,\n",
            "         -4.3429e-01, -3.6191e-02,  3.8085e-01, -1.2215e+00, -4.2359e-01,\n",
            "          2.2401e-02, -7.1606e-01, -9.6744e-01,  3.1558e-01, -1.2237e-02,\n",
            "          3.4816e-01, -5.8802e-01,  2.1585e+00, -1.8386e+00,  7.2329e-01,\n",
            "          2.6446e-02,  3.1568e-01,  9.1066e-02, -1.7143e+00,  7.3923e-01,\n",
            "          2.5403e-01, -1.1850e+00, -4.3007e-01, -1.0488e+00, -1.9759e-01,\n",
            "          1.7373e+00,  1.9992e-01, -1.4852e+00, -1.6630e+00,  1.0375e+00,\n",
            "          4.2866e-01, -2.0679e+00,  9.0126e-01,  7.2987e-01,  1.5796e+00,\n",
            "          7.2715e-01,  6.3209e-01,  1.9059e+00,  1.6662e+00,  5.3970e-01,\n",
            "          5.4091e-01,  9.4800e-03,  1.7891e-01, -6.2375e-01,  1.2262e+00,\n",
            "          2.5492e+00,  1.1355e+00,  1.3003e-01,  8.0220e-01,  6.8719e-01,\n",
            "         -1.9499e+00,  5.6506e-01,  2.9442e-01, -4.4940e-01,  6.0638e-01,\n",
            "          1.0702e+00, -2.4812e+00, -2.7624e-01,  6.8634e-01,  1.2669e+00,\n",
            "         -7.8672e-01,  1.2172e+00, -2.2376e+00, -1.4719e+00, -1.3457e+00,\n",
            "         -9.9368e-01,  1.1581e+00, -1.1888e+00, -3.7523e-01, -7.1506e-01,\n",
            "         -2.1132e-01, -1.3048e+00,  1.9554e+00, -6.3954e-02, -1.6361e+00,\n",
            "          1.0252e+00,  1.0611e+00,  1.5179e+00,  1.1474e+00, -1.8179e+00,\n",
            "         -1.3997e+00, -7.9164e-01, -2.9357e-02, -9.3575e-01, -7.6468e-01,\n",
            "         -6.6580e-01, -1.3151e+00, -1.8032e+00,  1.9377e-01, -2.1584e+00,\n",
            "         -8.5819e-01, -2.7905e-01,  4.2850e-01, -9.1745e-01,  1.4759e+00,\n",
            "         -6.0607e-01,  9.7814e-01, -1.0667e+00,  5.7142e-01,  3.4499e-02,\n",
            "         -7.4010e-01,  1.6249e+00,  3.5076e-01,  5.5492e-01,  1.1069e+00,\n",
            "          2.4532e+00,  8.1893e-01, -8.1801e-01, -1.2691e+00, -3.1035e-01,\n",
            "          6.5551e-02,  2.6324e-01, -6.0923e-01,  2.5316e-01,  1.3405e+00,\n",
            "         -1.2827e+00, -2.9027e-01, -7.4301e-01, -1.3920e+00, -8.4599e-01,\n",
            "         -7.8233e-01, -1.1795e+00, -1.9382e+00, -2.8135e-01, -8.7573e-01,\n",
            "         -1.3666e+00, -4.2676e-01,  1.7085e+00,  1.4548e-01,  5.0923e-01,\n",
            "         -1.0446e+00, -1.3731e+00, -8.0218e-01, -1.4499e+00, -1.7792e+00,\n",
            "          3.3046e-01, -1.3641e-01, -1.9496e+00,  1.7234e-02,  9.3320e-01,\n",
            "         -1.0044e+00, -4.1771e-01, -1.3948e+00, -8.8913e-01,  7.1069e-01,\n",
            "         -1.0919e+00, -8.8442e-01, -1.3388e+00,  9.4453e-01, -1.5643e-01,\n",
            "          1.6873e+00,  7.5635e-02,  1.1298e+00, -1.3436e+00,  2.8295e-01,\n",
            "         -1.6291e+00,  1.4430e+00, -2.7010e-01, -5.2343e-01, -6.1009e-01,\n",
            "          4.0748e-01,  1.7549e+00, -1.2011e+00, -1.1858e+00, -1.2301e+00,\n",
            "         -1.1928e+00,  3.1800e-01, -9.8590e-02, -1.5871e+00, -1.3204e-01,\n",
            "          4.8317e-02, -2.7534e+00,  2.5428e-01,  8.3475e-01, -4.9965e-01,\n",
            "         -6.9875e-01,  1.2112e+00,  4.1766e-01, -1.1116e+00,  3.0904e-02,\n",
            "         -3.0552e-01, -8.7378e-01, -2.2239e-01,  1.2673e+00,  1.4258e+00,\n",
            "         -1.0657e+00,  3.4004e-01, -1.6003e+00, -2.9094e-01, -7.1100e-01,\n",
            "          1.1683e-01,  1.0314e-01,  1.5514e+00, -1.9013e-01,  1.5160e+00,\n",
            "          1.9994e+00, -2.5111e-01, -4.8191e-01,  4.4866e-01, -9.2876e-01,\n",
            "          3.3290e-01,  4.7456e-01,  5.5796e-01]], grad_fn=<EmbeddingBackward0>)\n"
          ]
        }
      ],
      "source": [
        "token_id = tokenizer.token_to_id(\"I\")\n",
        "print(\"token_id:\", token_id)\n",
        "input_id = torch.tensor([token_id], dtype=torch.long)\n",
        "print(\"input_id 차원:\", input_id.shape)\n",
        "\n",
        "vector = embedding_vector(input_id)\n",
        "print(\"vector 차원:\", vector.shape)\n",
        "print(\"vector:\", vector)"
      ]
    },
    {
      "cell_type": "markdown",
      "id": "7f47d8d6",
      "metadata": {
        "id": "7f47d8d6"
      },
      "source": [
        "# 2. RNN/LSTM\n",
        "\n",
        "- 학습 목표\n",
        "  1. RNN/LSTM을 이용하여 문장 전체의 정보를 압축한 문맥 벡터에 대한 이해를 할 수 있다.\n",
        "  2. Encoder Decoder 구조를 통해 문맥 벡터를 이용하여 특정 task를 수행할 수 있다.\n",
        "- 학습 개념\n",
        "  1. RNN/LSTM\n",
        "  2. Encoder/Decoder\n",
        "- 진행하는 실습 요약\n",
        "  1. 간단한 RNN/LSTM을 구현한다.\n",
        "  2. 번역 task와 관련된 encoder decoder 구조를 구현한다.\n"
      ]
    },
    {
      "cell_type": "markdown",
      "id": "d6cfb8ca",
      "metadata": {
        "id": "d6cfb8ca"
      },
      "source": [
        "<blockquote>\n",
        "<b>🧠 Recurrent Neural Network(RNN)이란? </b><br>\n",
        "순차적(Sequential) 이전의 정보를 기억하여 현재의 정보를 처리하는 신경망 구조를 의미합니다.\n",
        "</blockquote>\n",
        "\n",
        "RNN이 갖는 특징은 다음과 같습니다.\n",
        "\n",
        "- 입력을 순차적으로 처리합니다.\n",
        "- RNN은 같은 가중치를 반복적으로 사용합니다.\n",
        "- 재귀적인 구조를 가집니다."
      ]
    },
    {
      "cell_type": "markdown",
      "id": "ec4dfc5c",
      "metadata": {
        "id": "ec4dfc5c"
      },
      "source": [
        "그러면 이제부터 입력 텍스트를 RNN에 입력으로 넣어서 출력층의 결과값을 받아봅시다!\n",
        "\n",
        "텍스트를 입력으로 넣기 위해서는 위에서 보았듯, 워드 임베딩으로 변환해야 합니다.\n",
        "워드 임베딩을 만듭니다."
      ]
    },
    {
      "cell_type": "code",
      "execution_count": 64,
      "id": "2b720ce0",
      "metadata": {
        "colab": {
          "base_uri": "https://localhost:8080/"
        },
        "id": "2b720ce0",
        "outputId": "44f96cf9-3f84-49f7-f78f-7fde76e6f78b"
      },
      "outputs": [
        {
          "output_type": "stream",
          "name": "stdout",
          "text": [
            "워드 임베딩 차원 : torch.Size([30000, 768])\n"
          ]
        }
      ],
      "source": [
        "word_embeddings: Tensor2D[VocabSize, EmbeddingSize] = nn.Embedding(vocab_size, 768)\n",
        "print(\"워드 임베딩 차원 :\", word_embeddings.weight.shape)"
      ]
    },
    {
      "cell_type": "markdown",
      "id": "6f9be639",
      "metadata": {
        "id": "6f9be639"
      },
      "source": [
        "워드 임베딩 차원에 맞게 RNN을 구현합니다."
      ]
    },
    {
      "cell_type": "code",
      "execution_count": 65,
      "id": "d6cf6ed2",
      "metadata": {
        "colab": {
          "base_uri": "https://localhost:8080/"
        },
        "id": "d6cf6ed2",
        "outputId": "22bab906-8ae7-4bc1-e3db-ee6a778a0d53"
      },
      "outputs": [
        {
          "output_type": "stream",
          "name": "stdout",
          "text": [
            "h_0의 차원 : torch.Size([1, 1024])\n"
          ]
        }
      ],
      "source": [
        "input_size: int = word_embeddings.weight.size()[1] # RNN의 input size는 임베딩 벡터의 차원과 일치해야 합니다.\n",
        "hidden_size: int = 1024  # RNN의 hidden size\n",
        "num_layers: int = 1  # 쌓을 RNN layer의 개수\n",
        "bidirectional: bool = False  # 단방향 RNN\n",
        "\n",
        "rnn = nn.RNN(\n",
        "    input_size=input_size,\n",
        "    hidden_size=hidden_size,\n",
        "    num_layers=num_layers,\n",
        "    bidirectional=bidirectional\n",
        ")\n",
        "\n",
        "# 초기 hidden state 초기화\n",
        "\n",
        "hidden_state_shape: int = (num_layers * (2 if bidirectional else 1), hidden_size)\n",
        "\n",
        "h_0: Tensor2D[Sequence, HiddenStates] = torch.zeros(hidden_state_shape)  # (num_layers * num_dirs, hidden_size)\n",
        "print(\"h_0의 차원 :\",h_0.shape)"
      ]
    },
    {
      "cell_type": "markdown",
      "id": "cbb4f18e",
      "metadata": {
        "id": "cbb4f18e"
      },
      "source": [
        "입력 텍스트 데이터를 토크나이저를 사용하여 토큰화한 후, ids만 꺼냅니다."
      ]
    },
    {
      "cell_type": "code",
      "execution_count": 66,
      "id": "bcf10c34",
      "metadata": {
        "colab": {
          "base_uri": "https://localhost:8080/"
        },
        "id": "bcf10c34",
        "outputId": "2e7dee53-cb0b-4611-cfc5-455e6d042566"
      },
      "outputs": [
        {
          "output_type": "execute_result",
          "data": {
            "text/plain": [
              "tensor([6228, 7125, 3308, 9046,   18])"
            ]
          },
          "metadata": {},
          "execution_count": 66
        }
      ],
      "source": [
        "text: str = \"나는 학교에 간다.\"\n",
        "\n",
        "# 토큰화를 진행합니다.\n",
        "encoded = tokenizer.encode(text)\n",
        "# 토큰의 ids만 꺼냅니다.\n",
        "input_ids: List[int] = encoded.ids\n",
        "\n",
        "# 텐서화를 합니다.\n",
        "input_ids: Tensor1D[Sequence] = torch.tensor(input_ids, dtype=torch.long)\n",
        "input_ids"
      ]
    },
    {
      "cell_type": "markdown",
      "id": "13935ca0",
      "metadata": {
        "id": "13935ca0"
      },
      "source": [
        "변환된 input_ids를 워드 임베딩으로 넣고\n",
        "워드 임베딩을 RNN의 입력으로 넣어 두 output을 얻습니다.\n",
        "\n",
        "1. `hidden_states`: 각 time step에 해당하는 hidden state들의 묶음.\n",
        "2. `h_n`: 모든 sequence를 거치고 나온 마지막 hidden state(`last hidden state`). hidden_states의 마지막과 동일."
      ]
    },
    {
      "cell_type": "code",
      "execution_count": 67,
      "id": "97d65561",
      "metadata": {
        "colab": {
          "base_uri": "https://localhost:8080/"
        },
        "id": "97d65561",
        "outputId": "e7004945-87e0-4eee-b553-c80cec903e16"
      },
      "outputs": [
        {
          "output_type": "stream",
          "name": "stdout",
          "text": [
            "워드 임베딩 차원 :  torch.Size([5, 768])\n",
            "hidden_states 차원 :  torch.Size([5, 1024])\n",
            "h_n 차원 :  torch.Size([1, 1024])\n",
            "hidden_states의 마지막과 h_n이 같습니다.\n"
          ]
        }
      ],
      "source": [
        "input_embeds: Tensor2D[Sequence, EmbeddingSize] = word_embeddings(input_ids)\n",
        "print(\"워드 임베딩 차원 : \", input_embeds.shape)  # (vocab_size, embedding_dim)\n",
        "outputs = rnn(input_embeds, h_0)\n",
        "hidden_states: Tensor2D[Sequence, HiddenStates] = outputs[0]\n",
        "h_n: Tensor2D[Layers, HiddenStates] = outputs[1]\n",
        "\n",
        "# sequence_length: input_token의 길이(length), hidden size: hidden state 차원 수, num_layers: layer 개수, num_dirs: 방향의 개수\n",
        "print(\"hidden_states 차원 : \", hidden_states.shape)  # (sequence_length, d_h)\n",
        "print(\"h_n 차원 : \", h_n.shape)  # (num_layers * num_dirs, d_h) = (1, d_h)\n",
        "\n",
        "if torch.equal(hidden_states[-1].unsqueeze(0), h_n):\n",
        "    print(\"hidden_states의 마지막과 h_n이 같습니다.\")"
      ]
    },
    {
      "cell_type": "markdown",
      "id": "7ecc103e",
      "metadata": {
        "id": "7ecc103e"
      },
      "source": [
        "그러면 이러한 은닉 상태(hidden state)를 얻어서 어떠한 작업을 할 수 있을까요?\n",
        "\n",
        "<blockquote>\n",
        "<b>🧠 은닉 상태(hidden state)는 문장의 정보들을 압축적으로 저장합니다.</b><br>\n",
        "RNN layer를 통과하면서 문장 전체의 정보를 압축하게 되고 이러한 정보들은 hidden state에 담기게 됩니다. 이러한 hidden state는 문맥 벡터(context vector)로 사용됩니다.\n",
        "</blockquote>\n",
        "\n",
        "문맥 벡터(context vector)는 입력 문장의 정보들을 벡터상에 압축하여 저장한 것으로, 이를 통해 다양한 task를 수행할 수 있게 됩니다.\n",
        "\n",
        "여기서는 번역(translation) task를 수행하기 위해 hidden state를 사용하겠습니다.\n",
        "\n",
        "번역을 하기 위해서는 last hidden state를 다시 저희의 입력 데이터와 유사한 형태인 텍스트(토큰) id로 변환하는 layer가 필요합니다. 이를 저희는 Decoder라고 부릅니다.\n",
        "\n",
        "![image](https://raw.githubusercontent.com/Ssunbell/TIL/refs/heads/master/assets/Seq2SeqRNN.png)\n",
        "\n",
        "그러면 아래에서 Encoder와 Decoder를 연결하여 번역을 수행하는 모델을 구현하겠습니다.\n",
        "\n",
        "먼저 인코더를 구현하겠습니다. 위에서 구현한 rnn을 그대로 이용하여 클래스화를 진행하는 것과 동일합니다."
      ]
    },
    {
      "cell_type": "code",
      "execution_count": 68,
      "id": "f35ff084",
      "metadata": {
        "colab": {
          "base_uri": "https://localhost:8080/"
        },
        "id": "f35ff084",
        "outputId": "3b44dd9f-1fde-4f8c-8fb9-0cda2e530bab"
      },
      "outputs": [
        {
          "output_type": "stream",
          "name": "stdout",
          "text": [
            "hidden_states 차원 :  torch.Size([5, 1024])\n",
            "h_n 차원 :  torch.Size([1, 1024])\n"
          ]
        }
      ],
      "source": [
        "from abc import ABC, abstractmethod\n",
        "\n",
        "# 인코더 모델은 RNN을 사용합니다. 아래는 추상화 클래스입니다.\n",
        "class Encoder(nn.Module, ABC):\n",
        "    def __init__(self: \"Encoder\") -> None:\n",
        "        super().__init__()\n",
        "        pass\n",
        "\n",
        "    @abstractmethod\n",
        "    def forward(self: \"Encoder\", input_ids: torch.Tensor) -> torch.Tensor:\n",
        "        # forward에서 실제로 인코딩을 수행하기 위한 레이어를 쌓습니다.\n",
        "        pass\n",
        "\n",
        "class RNNEncoder(Encoder):\n",
        "    def __init__(\n",
        "        self: \"RNNEncoder\",\n",
        "        vocab_size: int,\n",
        "        embedding_dim: int,\n",
        "        hidden_size: int,\n",
        "        num_layers: int,\n",
        "        bidirectional: bool,\n",
        "    ) -> None:\n",
        "        super().__init__()\n",
        "        # word embedding layer\n",
        "        self.word_embeddings = nn.Embedding(vocab_size, embedding_dim)\n",
        "        # rnn layer\n",
        "        self.rnn = nn.RNN(\n",
        "            input_size=embedding_dim,\n",
        "            hidden_size=hidden_size,\n",
        "            num_layers=num_layers,\n",
        "            bidirectional=bidirectional,\n",
        "        )\n",
        "\n",
        "    def forward(\n",
        "        self: \"RNNEncoder\",\n",
        "        input_ids: Tensor1D[Sequence]\n",
        "    ) -> Tuple[Tensor2D[Sequence, HiddenStates], Tensor2D[Layers, HiddenStates]]:\n",
        "        \"\"\"입력 토큰을 워드 임베딩을 통해 임베딩 변환을 합니다.\"\"\"\n",
        "        input_embeds = self.word_embeddings(input_ids)\n",
        "\n",
        "        \"\"\"RNN을 통해 입력 임베딩을 문맥 벡터(context vector)화 합니다.\"\"\"\n",
        "        outputs = self.rnn(input_embeds)\n",
        "        # TODO: 직접 구현해보세요!\n",
        "        # hidden_states: Tensor2D[Sequence, HiddenStates] = FIXME\n",
        "        # h_n: Tensor2D[Layers, HiddenStates] = FIXME\n",
        "\n",
        "        return hidden_states, h_n\n",
        "\n",
        "vocab_size = 30000\n",
        "embedding_dim = 768\n",
        "hidden_size = 1024  # RNN의 hidden size\n",
        "num_layers = 1  # 쌓을 RNN layer의 개수\n",
        "bidirectional = False  # 단방향 RNN\n",
        "\n",
        "rnn_encoder = RNNEncoder(\n",
        "    vocab_size=vocab_size,\n",
        "    embedding_dim=embedding_dim,\n",
        "    hidden_size=hidden_size,\n",
        "    num_layers=num_layers,\n",
        "    bidirectional=bidirectional\n",
        ")\n",
        "\n",
        "outputs = rnn_encoder(input_ids)\n",
        "hidden_states: Tensor2D[Sequence, HiddenStates] = outputs[0]\n",
        "h_n: Tensor2D[Layers, HiddenStates] = outputs[1]\n",
        "print(\"hidden_states 차원 : \", hidden_states.shape)  # (L, B, d_h)\n",
        "print(\"h_n 차원 : \", h_n.shape)  # (num_layers*num_dirs, B, d_h) = (1, B, d_h)\n"
      ]
    },
    {
      "cell_type": "markdown",
      "id": "61b15bc9",
      "metadata": {
        "id": "61b15bc9"
      },
      "source": [
        "다음 디코더 부분을 구현하겠습니다."
      ]
    },
    {
      "cell_type": "code",
      "execution_count": 69,
      "id": "a5a3b846",
      "metadata": {
        "colab": {
          "base_uri": "https://localhost:8080/"
        },
        "id": "a5a3b846",
        "outputId": "43ae4fc9-98de-46e1-b97b-f2f502defbb7"
      },
      "outputs": [
        {
          "output_type": "stream",
          "name": "stdout",
          "text": [
            "##사람의사람의사람의사람의사람의사람의사람의사람의사람의사람의\n"
          ]
        }
      ],
      "source": [
        "# 디코더 모델 또한 RNN을 사용합니다.\n",
        "class Decoder(nn.Module, ABC):\n",
        "    def __init__(self: \"Decoder\") -> None:\n",
        "        super().__init__()\n",
        "\n",
        "    @abstractmethod\n",
        "    def forward(self, input_ids: torch.Tensor, init_hidden_state: torch.Tensor) -> torch.Tensor:\n",
        "        pass\n",
        "\n",
        "class RNNDecoder(Decoder):\n",
        "    def __init__(\n",
        "        self: \"RNNDecoder\",\n",
        "        vocab_size: int,\n",
        "        embedding_dim: int,\n",
        "        hidden_size: int,\n",
        "        num_layers: int,\n",
        "        bidirectional: bool,\n",
        "        start_token_id: int,\n",
        "        end_token_id: int,\n",
        "    ) -> None:\n",
        "        super().__init__()\n",
        "        self.start_token_id = start_token_id\n",
        "        self.end_token_id = end_token_id\n",
        "        # word embedding layer\n",
        "        self.word_embeddings = nn.Embedding(vocab_size, embedding_dim)\n",
        "        # rnn layer\n",
        "        self.rnn = nn.RNN(\n",
        "            input_size=embedding_dim,\n",
        "            hidden_size=hidden_size,\n",
        "            num_layers=num_layers,\n",
        "            bidirectional=bidirectional,\n",
        "        )\n",
        "        # fully connected layer\n",
        "        self.fully_connected_layer = nn.Linear(hidden_size, vocab_size)\n",
        "\n",
        "    def forward(\n",
        "        self: \"RNNDecoder\",\n",
        "        init_hidden_state: Tensor2D[Layers, HiddenStates],\n",
        "        max_len: int = 10\n",
        "    ) -> Tuple[Tensor2D[MaxLength, VocabSize], List[int]]:\n",
        "        logits: List[Tensor1D[VocabSize]] = []\n",
        "        input_token: Tensor1D[Token] = torch.tensor([self.start_token_id], dtype=torch.long)\n",
        "        output_token_ids: List[int] = [input_token.item()] # tensor에서 item()을 사용하여 int로 변환합니다.\n",
        "        h_n = init_hidden_state # h_n은 encoder의 h_0와 동일한 역할을 합니다.\n",
        "\n",
        "        for _ in range(max_len):\n",
        "            if input_token == self.end_token_id:\n",
        "                # 문장의 종료를 의미하는 special token([SEP])이 나왔다면 추론(생성)을 종료합니다.\n",
        "                break\n",
        "\n",
        "            \"\"\"직전 토큰만 입력으로 넣고 생성한 context vector는 logits에 저장합니다.\"\"\"\n",
        "            # TODO: 직접 구현해보세요!\n",
        "            # embedded: Tensor2D[Token, EmbeddingSize] = FIXME\n",
        "            # outputs = FIXME\n",
        "            # h_n: Tensor2D[Layers, HiddenStates] = FIXME\n",
        "            concat_h_n: Tensor1D[HiddenStates] = h_n.squeeze(0) # 여기서는 layer 갯수가 1이고, bidirectional이 False이므로 squeeze를 사용해도 무방합니다. (원래는 torch.cat으로 h_n을 합치는 작업이 필요합니다.)\n",
        "\n",
        "            \"\"\"fully connected layer를 통해 [VocabSize]의 logit을 생성합니다.\"\"\"\n",
        "            logit: Tensor1D[VocabSize] = self.fully_connected_layer(concat_h_n)\n",
        "            logits.append(logit)\n",
        "\n",
        "            \"\"\"logit 내에서 가장 높은 점수값을 가진 토큰을 선택합니다.\"\"\"\n",
        "            input_token: Tensor1D[Token] = torch.argmax(logit, dim=-1).unsqueeze(0)\n",
        "            output_token_ids.append(input_token.item())\n",
        "\n",
        "        \"\"\"리스트의 logits를 torch의 Tensor로 변경합니다.\"\"\"\n",
        "        logits = torch.stack(logits, dim=0)  # [max_len, vocab_size]\n",
        "\n",
        "        return logits, output_token_ids\n",
        "\n",
        "start_token_id: int = tokenizer.encode(\"[CLS]\").ids[0]\n",
        "end_token_id: int = tokenizer.encode(\"[SEP]\").ids[0]\n",
        "\n",
        "vocab_size: int = 30000\n",
        "embedding_dim: int = 768\n",
        "hidden_size: int = 1024  # RNN의 hidden size\n",
        "num_layers: int = 1  # 쌓을 RNN layer의 개수\n",
        "bidirectional: bool = False  # 단방향 RNN\n",
        "\n",
        "rnn_decoder = RNNDecoder(\n",
        "    vocab_size=vocab_size,\n",
        "    embedding_dim=embedding_dim,\n",
        "    hidden_size=hidden_size,\n",
        "    num_layers=num_layers,\n",
        "    bidirectional=bidirectional,\n",
        "    start_token_id=start_token_id,\n",
        "    end_token_id=end_token_id,\n",
        ")\n",
        "logits, output_token_ids = rnn_decoder(h_n)\n",
        "output_texts = tokenizer.decode(output_token_ids)\n",
        "print(output_texts)"
      ]
    },
    {
      "cell_type": "markdown",
      "id": "2a43d683",
      "metadata": {
        "id": "2a43d683"
      },
      "source": [
        "이제 구현한 encoder와 decoder를 연결하여 seq2seq 모델을 구현해보겠습니다."
      ]
    },
    {
      "cell_type": "code",
      "execution_count": 70,
      "id": "55b85dfe",
      "metadata": {
        "colab": {
          "base_uri": "https://localhost:8080/"
        },
        "id": "55b85dfe",
        "outputId": "b100b963-e9de-4736-d46d-368d9025d451"
      },
      "outputs": [
        {
          "output_type": "stream",
          "name": "stdout",
          "text": [
            "##사람의사람의사람의사람의사람의사람의사람의사람의사람의사람의\n"
          ]
        }
      ],
      "source": [
        "class RNNSeq2Seq(nn.Module):\n",
        "    def __init__(self: \"RNNSeq2Seq\", encoder: nn.Module, decoder: nn.Module) -> None:\n",
        "        super().__init__()\n",
        "        self.encoder = encoder\n",
        "        self.decoder = decoder\n",
        "\n",
        "    def forward(self: \"RNNSeq2Seq\", input_ids: Tensor1D[Sequence]):\n",
        "        hidden_states, context_vector = self.encoder(input_ids) # encoder에서 생성한 context_vector(h_n)을 decoder layer로 전달\n",
        "        logits, output_tokens = self.decoder(context_vector)\n",
        "\n",
        "        return logits, output_tokens\n",
        "\n",
        "seq2seq = RNNSeq2Seq(rnn_encoder, rnn_decoder)\n",
        "logits, output_tokens = seq2seq(input_ids)\n",
        "output_token_ids = logits.argmax(dim=-1)\n",
        "output_texts = tokenizer.decode(output_token_ids.tolist())\n",
        "print(output_texts)"
      ]
    },
    {
      "cell_type": "markdown",
      "id": "36e7487e",
      "metadata": {
        "id": "36e7487e"
      },
      "source": [
        "<blockquote>\n",
        "<b>🤔 결과값이 이상해요</b><br>\n",
        "데이터로 충분히 학습을 하지 않아서 그렇습니다. 여기서는 모델의 구조에 대해서 집중하고 추후에 모델을 학습하는 과정을 경험해보겠습니다.\n",
        "</blockquote>\n",
        "\n",
        "저희는 Sequence to Sequence(Encoder - Decoder) 구조를 이용하여 텍스트를 생성해보았습니다.\n",
        "\n",
        "Seq2Seq 구조 내에서 실제 워드 임베딩을 컨텍스트 벡터로 변환하고, 그 변환된 컨텍스트 벡터를 텍스트(토큰)으로 변환하는 과정에서 쓰인 모델은 RNN이였습니다.\n",
        "\n",
        "RNN뿐만 아니라 LSTM, 어텐션 등을 사용하여 Seq2Seq 구조를 구현할 수 있습니다.\n",
        "\n",
        "전체적인 큰 틀은 그대로 유지한 채, RNN 모듈만 바꿔주기만 하면 됩니다.\n",
        "\n",
        "그러면 이제부터 LSTM으로 다시 한번 구현해보겠습니다."
      ]
    },
    {
      "cell_type": "markdown",
      "id": "8758c710",
      "metadata": {
        "id": "8758c710"
      },
      "source": [
        "RNN과 LSTM의 가장 큰 차이점은 LSTM에는 cell state가 추가된다는 점입니다.\n",
        "\n",
        "장기 기억을 담당하는 cell state를 통해 좀더 성능을 높일 수 있습니다.\n",
        "\n",
        "<blockquote>\n",
        "<b>🧠 Key point!</b><br>\n",
        "모델의 아키텍쳐마다 모델의 입출력이 달라집니다. 모델의 입력과 출력이 어떻게 나오는지에 대해서 이해하는 것이 중요합니다.\n",
        "</blockquote>\n",
        "\n",
        "그러면 Encoder에서 LSTM을 적용해보겠습니다."
      ]
    },
    {
      "cell_type": "code",
      "execution_count": 71,
      "id": "bf861480",
      "metadata": {
        "colab": {
          "base_uri": "https://localhost:8080/"
        },
        "id": "bf861480",
        "outputId": "0dd2b819-ec68-4b3a-94f9-4fbfd06c8a8e"
      },
      "outputs": [
        {
          "output_type": "stream",
          "name": "stdout",
          "text": [
            "hidden_states 차원 :  torch.Size([5, 1024])\n",
            "h_n 차원 :  torch.Size([1, 1024])\n",
            "c_n 차원 :  torch.Size([1, 1024])\n"
          ]
        }
      ],
      "source": [
        "class LSTMEncoder(Encoder):\n",
        "    def __init__(\n",
        "        self,\n",
        "        vocab_size: int,\n",
        "        embedding_dim: int,\n",
        "        hidden_size: int,\n",
        "        num_layers: int,\n",
        "        bidirectional: bool,\n",
        "    ) -> None:\n",
        "        super().__init__()\n",
        "        self.word_embeddings = nn.Embedding(vocab_size, embedding_dim)\n",
        "        self.lstm = nn.LSTM(\n",
        "            input_size=embedding_dim,\n",
        "            hidden_size=hidden_size,\n",
        "            num_layers=num_layers,\n",
        "            bidirectional=bidirectional,\n",
        "        )\n",
        "\n",
        "    def forward(\n",
        "        self: \"LSTMEncoder\",\n",
        "        input_ids: Tensor1D[Sequence]\n",
        "    )-> Tuple[\n",
        "        Tensor2D[Sequence, HiddenStates], # hidden states\n",
        "        Tuple[\n",
        "            Tensor2D[Layers, HiddenStates], # h_n\n",
        "            Tensor2D[Layers, HiddenStates] # c_n\n",
        "        ]\n",
        "    ]:\n",
        "        # Embed -> same leading dims + embedding_dim\n",
        "        input_embeds = self.word_embeddings(input_ids)  # [S,B,E] or [B,S,E]\n",
        "        outputs = self.lstm(input_embeds)   # outputs: [S,B,D*H] or [B,S,D*H]\n",
        "        # TODO: 직접 구현해보세요!\n",
        "        hidden_states: Tensor2D[Sequence, HiddenStates] = outputs[0]\n",
        "        h_n: Tensor2D[Layers, HiddenStates] = outputs[1][0]\n",
        "        c_n: Tensor2D[Layers, HiddenStates] = outputs[1][1]\n",
        "\n",
        "        return hidden_states, (h_n, c_n)\n",
        "\n",
        "vocab_size = 30000\n",
        "embedding_dim = 768\n",
        "hidden_size = 1024  # RNN의 hidden size\n",
        "num_layers = 1  # 쌓을 RNN layer의 개수\n",
        "bidirectional = False  # 단방향 RNN\n",
        "\n",
        "lstm_encoder = LSTMEncoder(\n",
        "    vocab_size=vocab_size,\n",
        "    embedding_dim=embedding_dim,\n",
        "    hidden_size=hidden_size,\n",
        "    num_layers=num_layers,\n",
        "    bidirectional=bidirectional\n",
        ")\n",
        "\n",
        "outputs = lstm_encoder(input_ids)\n",
        "hidden_states: Tensor2D[Sequence, HiddenStates] = outputs[0]\n",
        "h_n: Tensor2D[Layers, HiddenStates] = outputs[1][0]\n",
        "c_n: Tensor2D[Layers, HiddenStates] = outputs[1][1]\n",
        "print(\"hidden_states 차원 : \", hidden_states.shape)  # (L, B, d_h)\n",
        "print(\"h_n 차원 : \", h_n.shape)  # (num_layers*num_dirs, B, d_h) = (1, d_h)\n",
        "print(\"c_n 차원 : \", c_n.shape)  # (num_layers*num_dirs, B, d_h) = (1, d_h)"
      ]
    },
    {
      "cell_type": "markdown",
      "id": "40d7ab4d",
      "metadata": {
        "id": "40d7ab4d"
      },
      "source": [
        "이번에는 LSTM을 사용하여 Decoder Layer를 구현해보겠습니다."
      ]
    },
    {
      "cell_type": "code",
      "execution_count": 72,
      "id": "77ba9e94",
      "metadata": {
        "colab": {
          "base_uri": "https://localhost:8080/"
        },
        "id": "77ba9e94",
        "outputId": "a834b220-14b1-4f5f-f9ac-a7176bb73c74"
      },
      "outputs": [
        {
          "output_type": "stream",
          "name": "stdout",
          "text": [
            "##스피스피 이영화보고 좃 정신줄 고정관념 추모34귯 연출로\n"
          ]
        }
      ],
      "source": [
        "class LSTMDecoder(Decoder):\n",
        "    def __init__(\n",
        "        self: \"LSTMDecoder\",\n",
        "        vocab_size: int,\n",
        "        embedding_dim: int,\n",
        "        hidden_size: int,\n",
        "        num_layers: int,\n",
        "        bidirectional: bool,\n",
        "        start_token_id: int,\n",
        "        end_token_id: int,\n",
        "    ) -> None:\n",
        "        super().__init__()\n",
        "        self.start_token_id = start_token_id\n",
        "        self.end_token_id = end_token_id\n",
        "        # word embedding layer\n",
        "        self.word_embeddings = nn.Embedding(vocab_size, embedding_dim)\n",
        "        # rnn layer\n",
        "        self.lstm = nn.LSTM(\n",
        "            input_size=embedding_dim,\n",
        "            hidden_size=hidden_size,\n",
        "            num_layers=num_layers,\n",
        "            bidirectional=bidirectional,\n",
        "        )\n",
        "        # fully connected layer\n",
        "        self.fully_connected_layer = nn.Linear(hidden_size, vocab_size)\n",
        "\n",
        "    def forward(\n",
        "        self: \"LSTMDecoder\",\n",
        "        init_hidden_state: Tensor2D[Layers, HiddenStates],\n",
        "        init_cell_state: Tensor2D[Layers, HiddenStates],\n",
        "        max_len: int = 10\n",
        "    ) -> Tuple[Tensor2D[MaxLength, VocabSize], List[int]]:\n",
        "        logits: List[Tensor1D[VocabSize]] = []\n",
        "        input_token: Tensor1D[Token] = torch.tensor([self.start_token_id], dtype=torch.long)\n",
        "        output_token_ids: List[int] = [input_token.item()] # tensor에서 item()을 사용하여 int로 변환합니다.\n",
        "        h_n = init_hidden_state # h_n은 encoder의 h_0와 동일한 역할을 합니다.\n",
        "        c_n = init_cell_state\n",
        "\n",
        "        for _ in range(max_len):\n",
        "            if input_token == self.end_token_id:\n",
        "                # 문장의 종료를 의미하는 special token([SEP])이 나왔다면 추론(생성)을 종료합니다.\n",
        "                break\n",
        "\n",
        "            \"\"\"직전 토큰만 입력으로 넣고 생성한 context vector는 logits에 저장합니다.\"\"\"\n",
        "            embedded: Tensor2D[Token, EmbeddingSize] = self.word_embeddings(input_token)  # 직전 입력 토큰만 사용 [1, embedding_dim]\n",
        "            outputs = self.lstm(embedded, (h_n, c_n))   # outputs: [S,B,D*H] or [B,S,D*H]\n",
        "            h_n: Tensor2D[Layers, HiddenStates] = outputs[1][0]\n",
        "            c_n: Tensor2D[Layers, HiddenStates] = outputs[1][1]\n",
        "\n",
        "            concat_h_n: Tensor1D[HiddenStates] = h_n.squeeze(0) # 여기서는 layer 갯수가 1이고, bidirectional이 False이므로 squeeze를 사용해도 무방합니다. (원래는 torch.cat으로 h_n을 합치는 작업이 필요합니다.)\n",
        "\n",
        "            \"\"\"fully connected layer를 통해 [VocabSize]의 logit을 생성합니다.\"\"\"\n",
        "            logit: Tensor1D[VocabSize] = self.fully_connected_layer(concat_h_n)\n",
        "            logits.append(logit)\n",
        "\n",
        "            \"\"\"가장 높은 점수값을 가진 토큰을 선택합니다.\"\"\"\n",
        "            input_token: Tensor1D[Token] = torch.argmax(logit, dim=-1).unsqueeze(0)\n",
        "            output_token_ids.append(input_token.item())\n",
        "\n",
        "        \"\"\"리스트의 logits를 torch의 Tensor로 변경합니다.\"\"\"\n",
        "        logits = torch.stack(logits, dim=0)  # [max_len, vocab_size]\n",
        "\n",
        "        return logits, output_token_ids\n",
        "\n",
        "\n",
        "start_token_id: int = tokenizer.encode(\"[CLS]\").ids[0]\n",
        "end_token_id: int = tokenizer.encode(\"[SEP]\").ids[0]\n",
        "\n",
        "vocab_size: int = 30000\n",
        "embedding_dim: int = 768\n",
        "hidden_size: int = 1024 # RNN의 hidden size\n",
        "num_layers: int = 1 # 쌓을 RNN layer의 개수\n",
        "bidirectional: bool = False # 단방향 RNN\n",
        "\n",
        "lstm_decoder = LSTMDecoder(\n",
        "    vocab_size=vocab_size,\n",
        "    embedding_dim=embedding_dim,\n",
        "    hidden_size=hidden_size,\n",
        "    num_layers=num_layers,\n",
        "    bidirectional=bidirectional,\n",
        "    start_token_id=start_token_id,\n",
        "    end_token_id=end_token_id,\n",
        ")\n",
        "\n",
        "logits, output_tokens = lstm_decoder(h_n, c_n)\n",
        "output_token_ids = logits.argmax(dim=-1)\n",
        "output_texts = tokenizer.decode(output_token_ids.tolist())\n",
        "print(output_texts)"
      ]
    },
    {
      "cell_type": "markdown",
      "id": "8c8db0e2",
      "metadata": {
        "id": "8c8db0e2"
      },
      "source": [
        "Encoder와 Decoder를 사용하여 Seq2Seq 모델을 구현해보겠습니다."
      ]
    },
    {
      "cell_type": "code",
      "execution_count": 73,
      "id": "fddfe053",
      "metadata": {
        "colab": {
          "base_uri": "https://localhost:8080/"
        },
        "id": "fddfe053",
        "outputId": "37f81ac6-026d-43b7-9ee1-575e70fbd90e"
      },
      "outputs": [
        {
          "output_type": "stream",
          "name": "stdout",
          "text": [
            "##스피스피 이영화보고 좃 정신줄 고정관념 추모34귯 연출로\n"
          ]
        }
      ],
      "source": [
        "class LSTMSeq2Seq(nn.Module):\n",
        "    def __init__(self: \"LSTMSeq2Seq\", encoder: nn.Module, decoder: nn.Module) -> None:\n",
        "        super().__init__()\n",
        "        self.encoder = encoder\n",
        "        self.decoder = decoder\n",
        "\n",
        "    def forward(self: \"LSTMSeq2Seq\", input_ids: Tensor1D[Sequence]):\n",
        "        hidden_states, (context_vector, cell_states) = self.encoder(input_ids) # encoder에서 생성한 context_vector(h_n)을 decoder layer로 전달\n",
        "        logits, output_tokens = self.decoder(context_vector, cell_states)\n",
        "\n",
        "        return logits, output_tokens\n",
        "\n",
        "seq2seq = LSTMSeq2Seq(lstm_encoder, lstm_decoder)\n",
        "logits, output_tokens = seq2seq(input_ids)\n",
        "output_token_ids = logits.argmax(dim=-1)\n",
        "output_texts = tokenizer.decode(output_token_ids.tolist())\n",
        "print(output_texts)"
      ]
    },
    {
      "cell_type": "markdown",
      "id": "0391cd8a",
      "metadata": {
        "id": "0391cd8a"
      },
      "source": [
        "# 3. Attention Mechanism\n",
        "\n",
        "- 학습 목표\n",
        "  1. Luong Attention(Dot Attention)을 구현할 수 있다.\n",
        "  2. Attention을 이용하여 Decoder를 구현할 수 있다.\n",
        "- 학습 개념\n",
        "  1. Luong Attention\n",
        "- 진행하는 실습 요약\n",
        "  1. Luong Attention을 구현한다.\n",
        "  2. Seq2Seq 구조에 들어갈 Decoder를 구현한다.\n",
        "\n",
        "\n",
        "이번에는 Attention을 사용한 seq2seq 모델을 구현해보겠습니다.\n",
        "\n",
        "<blockquote>\n",
        "<b>🧠 Attention Mechanism</b><br>\n",
        "현재 구현할 seq2seq 모델에서의 Attention은 최근 사용하는 attention은 아닙니다. 최근의 Transformers 모델들은 Multi-Head Scaled Dot-Product Attention을 사용합니다. 해당 내용은 과제에서 다룰 예정입니다.\n",
        "</blockquote>\n",
        "\n",
        "1. 전체적인 Seq2Seq 모델의 구조는 동일합니다.\n",
        "2. Encoder에서 context vector를 얻을 때, LSTM을 사용하는 Encoder 모듈을 그대로 사용합니다.\n",
        "3. Decoder에서 output token을 생성할 때, attention mechanism을 추가합니다."
      ]
    },
    {
      "cell_type": "markdown",
      "id": "ad3807ee",
      "metadata": {
        "id": "ad3807ee"
      },
      "source": [
        "그러면 우선 Dot Attention(Luong attention)을 먼저 구현합니다."
      ]
    },
    {
      "cell_type": "code",
      "execution_count": 74,
      "id": "70059257",
      "metadata": {
        "id": "70059257"
      },
      "outputs": [],
      "source": [
        "import torch\n",
        "import torch.nn as nn\n",
        "import torch.nn.functional as F\n",
        "\n",
        "class LuongAttention(nn.Module):\n",
        "    def __init__(self: \"LuongAttention\", hidden_size: int):\n",
        "        super().__init__()\n",
        "        self.W_a = nn.Linear(hidden_size, hidden_size, bias=False)\n",
        "\n",
        "    @torch.no_grad()  # 학습 시 제거하세요\n",
        "    def forward(\n",
        "        self:\"LuongAttention\",\n",
        "        h_t: Tensor1D[HiddenStates],\n",
        "        encoder_outputs: Tensor2D[Sequence, HiddenStates],\n",
        "    ) -> Tuple[Tensor1D[HiddenStates], Tensor1D[Sequence]]:\n",
        "        \"\"\"hidden state를 W_a에 projection하여 Wa_ht를 구합니다.\"\"\"\n",
        "        Wa_ht: Tensor1D[HiddenStates] = self.W_a(h_t)\n",
        "\n",
        "        \"\"\"encoder_outputs와 Wa_ht를 내적하여 attention score를 구합니다.\"\"\"\n",
        "        # TODO: 직접 구현해보세요!\n",
        "        attention_score: Tensor1D[Sequence] = torch.matmul(encoder_outputs, Wa_ht)\n",
        "\n",
        "        \"\"\"attention score를 softmax layer에 통과시켜 attention weights(attention distribution)을 구합니다.\"\"\"\n",
        "        # TODO: 직접 구현해보세요!\n",
        "        attention_weights: Tensor1D[Sequence] = F.softmax(attention_score, dim=-1)\n",
        "\n",
        "        \"\"\"각 encoder의 attention weights와 encoder의 hidden state를 내적하여 context vector(attention value)를 구합니다.\"\"\"\n",
        "        # TODO: 직접 구현해보세요!\n",
        "        context_vector: Tensor1D[HiddenStates] = torch.matmul(attention_weights.unsqueeze(0), encoder_outputs).squeeze(0)\n",
        "\n",
        "        return context_vector, attention_weights"
      ]
    },
    {
      "cell_type": "markdown",
      "id": "df83103d",
      "metadata": {
        "id": "df83103d"
      },
      "source": [
        "<blockquote>\n",
        "<b>🤔 엇 여기서도 context vector가 나오네요?</b><br>\n",
        "네 그렇습니다. 과거에는 encoder의 마지막 hidden state(h_n)을 context vector라고 불렀습니다. 하지만, attention이 나오면서 context vector는 각 디코딩 시점마다 인코더의 모든 hidden states에 대한 어텐션 가중합이라고 생각해주시면 됩니다.\n",
        "</blockquote>\n",
        "\n",
        "구현한 attention mechanism을 이용하여 Decoder layer에 적용합니다."
      ]
    },
    {
      "cell_type": "code",
      "execution_count": 75,
      "id": "e2abb3bc",
      "metadata": {
        "colab": {
          "base_uri": "https://localhost:8080/"
        },
        "id": "e2abb3bc",
        "outputId": "64ee0d86-0556-4674-9ebb-b6be62bfac69"
      },
      "outputs": [
        {
          "output_type": "stream",
          "name": "stdout",
          "text": [
            "##빨로 뮁 날리고 北 섬 녀석들구성슈 황홀 렀\n"
          ]
        }
      ],
      "source": [
        "class AttentionDecoder(nn.Module):\n",
        "    def __init__(\n",
        "        self: \"AttentionDecoder\",\n",
        "        vocab_size: int,\n",
        "        embedding_dim: int,\n",
        "        hidden_size: int,\n",
        "        num_layers: int,\n",
        "        bidirectional: bool,\n",
        "        start_token_id: int,\n",
        "        end_token_id: int,\n",
        "    ):\n",
        "        super().__init__()\n",
        "        self.start_token_id = start_token_id\n",
        "        self.end_token_id = end_token_id\n",
        "        # word embedding layer\n",
        "        self.word_embeddings = nn.Embedding(vocab_size, embedding_dim)\n",
        "        # rnn layer\n",
        "        self.lstm = nn.LSTM(\n",
        "            input_size=embedding_dim,\n",
        "            hidden_size=hidden_size,\n",
        "            num_layers=num_layers,\n",
        "            bidirectional=bidirectional,\n",
        "        )\n",
        "\n",
        "        \"\"\"attention을 추가합니다.\"\"\"\n",
        "        self.attn = LuongAttention(hidden_size)\n",
        "        \"\"\"context vector을 입력으로 받는 trainable weights\"\"\"\n",
        "        self.W_c = nn.Linear(hidden_size * 2, hidden_size)\n",
        "        # fully connected layer\n",
        "        self.fully_connected_layer = nn.Linear(hidden_size, vocab_size)\n",
        "\n",
        "    @torch.no_grad()  # 학습 시 제거\n",
        "    def forward(\n",
        "        self:\"AttentionDecoder\",\n",
        "        init_hidden_state: Tensor1D[HiddenStates],\n",
        "        init_cell_state: Tensor1D[HiddenStates],\n",
        "        encoder_outputs: Tensor2D[Sequence, HiddenStates],\n",
        "        max_len: int = 10,\n",
        "    ):\n",
        "        logits: List[Tensor1D[VocabSize]] = []\n",
        "        input_token: Tensor1D[Token] = torch.tensor([self.start_token_id], dtype=torch.long)\n",
        "        output_token_ids: List[int] = [input_token.item()] # tensor에서 item()을 사용하여 int로 변환합니다.\n",
        "        h_n = init_hidden_state # h_n은 encoder의 h_0와 동일한 역할을 합니다.\n",
        "        c_n = init_cell_state\n",
        "\n",
        "        for _ in range(max_len):\n",
        "            if input_token == self.end_token_id:\n",
        "                # 문장의 종료를 의미하는 special token([SEP])이 나왔다면 추론(생성)을 종료합니다.\n",
        "                break\n",
        "\n",
        "            \"\"\"직전 토큰만 입력으로 넣고 생성한 context vector는 logits에 저장합니다.\"\"\"\n",
        "            embedded: Tensor2D[Token, EmbeddingSize] = self.word_embeddings(input_token)  # 직전 입력 토큰만 사용 [1, embedding_dim]\n",
        "            outputs = self.lstm(embedded, (h_n, c_n))   # outputs: [S,B,D*H] or [B,S,D*H]\n",
        "            h_n: Tensor2D[Layers, HiddenStates] = outputs[1][0]\n",
        "            c_n: Tensor2D[Layers, HiddenStates] = outputs[1][1]\n",
        "\n",
        "            concat_h_n: Tensor1D[HiddenStates] = h_n.squeeze(0) # 여기서는 layer 갯수가 1이고, bidirectional이 False이므로 squeeze를 사용해도 무방합니다. (원래는 torch.cat으로 h_n을 합치는 작업이 필요합니다.)\n",
        "\n",
        "            # 어텐션\n",
        "            context_vector, attention_weights = self.attn(concat_h_n, encoder_outputs)\n",
        "\n",
        "            \"\"\"h_n(은닉 상태)와 context_vector를 연결합니다. (Concatenate)\"\"\"\n",
        "            v_t: Tensor1D[HiddenStates * 2] = torch.cat([concat_h_n, context_vector], dim=-1)\n",
        "\n",
        "            \"\"\"v_t를 trainable weights를 통과시키고 tanh를 적용합니다.\"\"\"\n",
        "            # TODO: 직접 구현해보세요!\n",
        "            attentional_hidden_state: Tensor1D[HiddenStates] = torch.tanh(self.W_c(v_t))\n",
        "\n",
        "            \"\"\"fully connected layer를 통해 [VocabSize]의 logit을 생성합니다.\"\"\"\n",
        "            logit: Tensor1D[VocabSize] = self.fully_connected_layer(attentional_hidden_state)\n",
        "            logits.append(logit)\n",
        "\n",
        "            \"\"\"가장 높은 점수값을 가진 토큰을 선택합니다.\"\"\"\n",
        "            input_token: Tensor1D[Token] = torch.argmax(logit, dim=-1).unsqueeze(0)\n",
        "            output_token_ids.append(input_token.item())\n",
        "\n",
        "        logits = torch.stack(logits, dim=0) if logits else torch.empty(0, self.fully_connected_layer.out_features)\n",
        "\n",
        "        return logits, output_token_ids\n",
        "\n",
        "start_token_id: int = tokenizer.encode(\"[CLS]\").ids[0]\n",
        "end_token_id: int = tokenizer.encode(\"[SEP]\").ids[0]\n",
        "\n",
        "vocab_size: int = 30000\n",
        "embedding_dim: int = 768\n",
        "hidden_size: int = 1024 # RNN의 hidden size\n",
        "num_layers: int = 1 # 쌓을 RNN layer의 개수\n",
        "bidirectional: bool = False # 단방향 RNN\n",
        "\n",
        "attention_decoder = AttentionDecoder(\n",
        "    vocab_size=vocab_size,\n",
        "    embedding_dim=embedding_dim,\n",
        "    hidden_size=hidden_size,\n",
        "    num_layers=num_layers,\n",
        "    bidirectional=bidirectional,\n",
        "    start_token_id=start_token_id,\n",
        "    end_token_id=end_token_id,\n",
        ")\n",
        "\n",
        "logits, output_tokens = attention_decoder(h_n, c_n, hidden_states)\n",
        "output_token_ids = logits.argmax(dim=-1)\n",
        "output_texts = tokenizer.decode(output_token_ids.tolist())\n",
        "print(output_texts)"
      ]
    },
    {
      "cell_type": "markdown",
      "id": "bd266f15",
      "metadata": {
        "id": "bd266f15"
      },
      "source": [
        "Decoder layer를 구현했으니 이제 Seq2Seq 모델에 적용해봅니다."
      ]
    },
    {
      "cell_type": "code",
      "execution_count": 76,
      "id": "036db196",
      "metadata": {
        "colab": {
          "base_uri": "https://localhost:8080/"
        },
        "id": "036db196",
        "outputId": "a0bce60a-c8ae-4cd8-a0f0-44913b8edb40"
      },
      "outputs": [
        {
          "output_type": "stream",
          "name": "stdout",
          "text": [
            "##빨로 뮁 날리고 北 섬 녀석들구성슈 황홀 렀\n"
          ]
        }
      ],
      "source": [
        "class AttentionSeq2Seq(nn.Module):\n",
        "    def __init__(self: \"AttentionSeq2Seq\", encoder: nn.Module, decoder: nn.Module) -> None:\n",
        "        super().__init__()\n",
        "        self.encoder = encoder\n",
        "        self.decoder = decoder\n",
        "\n",
        "    def forward(self: \"AttentionSeq2Seq\", input_ids: Tensor1D[Sequence]):\n",
        "        hidden_states, (last_hidden_state, cell_states) = self.encoder(input_ids) # encoder에서 생성한 h_n을 decoder layer로 전달\n",
        "        logits, output_tokens = self.decoder(last_hidden_state, cell_states, hidden_states)\n",
        "\n",
        "        return logits, output_tokens\n",
        "\n",
        "seq2seq = AttentionSeq2Seq(lstm_encoder, attention_decoder)\n",
        "logits, output_tokens = seq2seq(input_ids)\n",
        "output_token_ids = logits.argmax(dim=-1)\n",
        "output_texts = tokenizer.decode(output_token_ids.tolist())\n",
        "print(output_texts)"
      ]
    },
    {
      "cell_type": "markdown",
      "id": "a7438c86",
      "metadata": {
        "id": "a7438c86"
      },
      "source": [
        "# 4. Huggingface 라이브러리 활용\n",
        "\n",
        "- 학습 목표\n",
        "  1. huggingface 라이브러리를 이용하여 기학습된 모델을 불러올 수 있다.\n",
        "  2. 기학습된 모델을 이용하여 추론을 할 수 있다.\n",
        "- 학습 개념\n",
        "  1. huggingface\n",
        "- 진행하는 실습 요약\n",
        "  1. HuggingFace Hub에서 한국어-영어 번역을 위해 사전학습된 모델과 토크나이저를 불러오는 코드(from_pretrained)를 완성\n",
        "  2. 불러온 토크나이저로 입력 문장을 인코딩하고, model.generate() 함수를 사용해 번역 결과를 생성하는 코드를 완성\n",
        "  3. 과제 2에서 사용한 번역 모델이 실제로 인코더와 디코더를 모두 가지고 있는지 코드로 확인\n",
        "\n",
        "huggingface는 글로벌 최대 AI 모델 오픈소스 커뮤니티입니다. 과거에는 자연어처리 모델만 있었지만, 최근에는 비전, 로봇 등 다양한 오픈소스 모델들을 지원합니다.\n",
        "\n",
        "여기서 Seq2Seq 아키텍쳐 구조에서 미리 학습한 모델을 불러와서 추론을 해보겠습니다."
      ]
    },
    {
      "cell_type": "markdown",
      "id": "87698cfe",
      "metadata": {
        "id": "87698cfe"
      },
      "source": [
        "아래 코드를 실행하여 모델과 토크나이저를 불러옵니다."
      ]
    },
    {
      "cell_type": "code",
      "execution_count": 77,
      "id": "28f35c6a",
      "metadata": {
        "colab": {
          "base_uri": "https://localhost:8080/"
        },
        "id": "28f35c6a",
        "outputId": "5bdf5216-0749-4463-fdda-b2c1c97f6003"
      },
      "outputs": [
        {
          "output_type": "stream",
          "name": "stderr",
          "text": [
            "/usr/local/lib/python3.12/dist-packages/transformers/models/marian/tokenization_marian.py:175: UserWarning: Recommended: pip install sacremoses.\n",
            "  warnings.warn(\"Recommended: pip install sacremoses.\")\n"
          ]
        }
      ],
      "source": [
        "from transformers import AutoTokenizer, AutoModelForSeq2SeqLM\n",
        "\n",
        "model_name = \"Helsinki-NLP/opus-mt-ko-en\"\n",
        "tokenizer = AutoTokenizer.from_pretrained(model_name)\n",
        "model = AutoModelForSeq2SeqLM.from_pretrained(model_name)"
      ]
    },
    {
      "cell_type": "markdown",
      "id": "1d16c583",
      "metadata": {
        "id": "1d16c583"
      },
      "source": [
        "불러온 모델이 Encoder와 Decoder 모듈을 가지고 있는지 확인하는 2가지 방법이 있습니다.\n",
        "\n",
        "1. `print(model)`을 사용하여 모델의 구조를 확인합니다. 시각적으로 잘 정돈된 모델 구조를 확인할 수 있습니다.\n",
        "2. `model.named_parameters()`를 사용하여 실제 클래스를 확인할 수 있습니다."
      ]
    },
    {
      "cell_type": "code",
      "execution_count": 78,
      "id": "f818e2ea",
      "metadata": {
        "colab": {
          "base_uri": "https://localhost:8080/"
        },
        "id": "f818e2ea",
        "outputId": "8aee1ba6-3998-4dd3-eb03-27506175392e"
      },
      "outputs": [
        {
          "output_type": "stream",
          "name": "stdout",
          "text": [
            "MarianMTModel(\n",
            "  (model): MarianModel(\n",
            "    (shared): Embedding(65001, 512, padding_idx=65000)\n",
            "    (encoder): MarianEncoder(\n",
            "      (embed_tokens): Embedding(65001, 512, padding_idx=65000)\n",
            "      (embed_positions): MarianSinusoidalPositionalEmbedding(512, 512)\n",
            "      (layers): ModuleList(\n",
            "        (0-5): 6 x MarianEncoderLayer(\n",
            "          (self_attn): MarianAttention(\n",
            "            (k_proj): Linear(in_features=512, out_features=512, bias=True)\n",
            "            (v_proj): Linear(in_features=512, out_features=512, bias=True)\n",
            "            (q_proj): Linear(in_features=512, out_features=512, bias=True)\n",
            "            (out_proj): Linear(in_features=512, out_features=512, bias=True)\n",
            "          )\n",
            "          (self_attn_layer_norm): LayerNorm((512,), eps=1e-05, elementwise_affine=True)\n",
            "          (activation_fn): SiLU()\n",
            "          (fc1): Linear(in_features=512, out_features=2048, bias=True)\n",
            "          (fc2): Linear(in_features=2048, out_features=512, bias=True)\n",
            "          (final_layer_norm): LayerNorm((512,), eps=1e-05, elementwise_affine=True)\n",
            "        )\n",
            "      )\n",
            "    )\n",
            "    (decoder): MarianDecoder(\n",
            "      (embed_tokens): Embedding(65001, 512, padding_idx=65000)\n",
            "      (embed_positions): MarianSinusoidalPositionalEmbedding(512, 512)\n",
            "      (layers): ModuleList(\n",
            "        (0-5): 6 x MarianDecoderLayer(\n",
            "          (self_attn): MarianAttention(\n",
            "            (k_proj): Linear(in_features=512, out_features=512, bias=True)\n",
            "            (v_proj): Linear(in_features=512, out_features=512, bias=True)\n",
            "            (q_proj): Linear(in_features=512, out_features=512, bias=True)\n",
            "            (out_proj): Linear(in_features=512, out_features=512, bias=True)\n",
            "          )\n",
            "          (activation_fn): SiLU()\n",
            "          (self_attn_layer_norm): LayerNorm((512,), eps=1e-05, elementwise_affine=True)\n",
            "          (encoder_attn): MarianAttention(\n",
            "            (k_proj): Linear(in_features=512, out_features=512, bias=True)\n",
            "            (v_proj): Linear(in_features=512, out_features=512, bias=True)\n",
            "            (q_proj): Linear(in_features=512, out_features=512, bias=True)\n",
            "            (out_proj): Linear(in_features=512, out_features=512, bias=True)\n",
            "          )\n",
            "          (encoder_attn_layer_norm): LayerNorm((512,), eps=1e-05, elementwise_affine=True)\n",
            "          (fc1): Linear(in_features=512, out_features=2048, bias=True)\n",
            "          (fc2): Linear(in_features=2048, out_features=512, bias=True)\n",
            "          (final_layer_norm): LayerNorm((512,), eps=1e-05, elementwise_affine=True)\n",
            "        )\n",
            "      )\n",
            "    )\n",
            "  )\n",
            "  (lm_head): Linear(in_features=512, out_features=65001, bias=False)\n",
            ")\n"
          ]
        }
      ],
      "source": [
        "print(model)"
      ]
    },
    {
      "cell_type": "code",
      "execution_count": 79,
      "id": "bbaf7975",
      "metadata": {
        "colab": {
          "base_uri": "https://localhost:8080/"
        },
        "id": "bbaf7975",
        "outputId": "6caf0255-c0d8-41bf-fd5f-4170e2c8e8b4"
      },
      "outputs": [
        {
          "output_type": "stream",
          "name": "stdout",
          "text": [
            "model.shared.weight\n",
            "model.encoder.embed_positions.weight\n",
            "model.encoder.layers.0.self_attn.k_proj.weight\n",
            "model.encoder.layers.0.self_attn.k_proj.bias\n",
            "model.encoder.layers.0.self_attn.v_proj.weight\n",
            "model.encoder.layers.0.self_attn.v_proj.bias\n",
            "model.encoder.layers.0.self_attn.q_proj.weight\n",
            "model.encoder.layers.0.self_attn.q_proj.bias\n",
            "model.encoder.layers.0.self_attn.out_proj.weight\n",
            "model.encoder.layers.0.self_attn.out_proj.bias\n",
            "model.encoder.layers.0.self_attn_layer_norm.weight\n",
            "model.encoder.layers.0.self_attn_layer_norm.bias\n",
            "model.encoder.layers.0.fc1.weight\n",
            "model.encoder.layers.0.fc1.bias\n",
            "model.encoder.layers.0.fc2.weight\n",
            "model.encoder.layers.0.fc2.bias\n",
            "model.encoder.layers.0.final_layer_norm.weight\n",
            "model.encoder.layers.0.final_layer_norm.bias\n",
            "model.encoder.layers.1.self_attn.k_proj.weight\n",
            "model.encoder.layers.1.self_attn.k_proj.bias\n",
            "model.encoder.layers.1.self_attn.v_proj.weight\n",
            "model.encoder.layers.1.self_attn.v_proj.bias\n",
            "model.encoder.layers.1.self_attn.q_proj.weight\n",
            "model.encoder.layers.1.self_attn.q_proj.bias\n",
            "model.encoder.layers.1.self_attn.out_proj.weight\n",
            "model.encoder.layers.1.self_attn.out_proj.bias\n",
            "model.encoder.layers.1.self_attn_layer_norm.weight\n",
            "model.encoder.layers.1.self_attn_layer_norm.bias\n",
            "model.encoder.layers.1.fc1.weight\n",
            "model.encoder.layers.1.fc1.bias\n",
            "model.encoder.layers.1.fc2.weight\n",
            "model.encoder.layers.1.fc2.bias\n",
            "model.encoder.layers.1.final_layer_norm.weight\n",
            "model.encoder.layers.1.final_layer_norm.bias\n",
            "model.encoder.layers.2.self_attn.k_proj.weight\n",
            "model.encoder.layers.2.self_attn.k_proj.bias\n",
            "model.encoder.layers.2.self_attn.v_proj.weight\n",
            "model.encoder.layers.2.self_attn.v_proj.bias\n",
            "model.encoder.layers.2.self_attn.q_proj.weight\n",
            "model.encoder.layers.2.self_attn.q_proj.bias\n",
            "model.encoder.layers.2.self_attn.out_proj.weight\n",
            "model.encoder.layers.2.self_attn.out_proj.bias\n",
            "model.encoder.layers.2.self_attn_layer_norm.weight\n",
            "model.encoder.layers.2.self_attn_layer_norm.bias\n",
            "model.encoder.layers.2.fc1.weight\n",
            "model.encoder.layers.2.fc1.bias\n",
            "model.encoder.layers.2.fc2.weight\n",
            "model.encoder.layers.2.fc2.bias\n",
            "model.encoder.layers.2.final_layer_norm.weight\n",
            "model.encoder.layers.2.final_layer_norm.bias\n",
            "model.encoder.layers.3.self_attn.k_proj.weight\n",
            "model.encoder.layers.3.self_attn.k_proj.bias\n",
            "model.encoder.layers.3.self_attn.v_proj.weight\n",
            "model.encoder.layers.3.self_attn.v_proj.bias\n",
            "model.encoder.layers.3.self_attn.q_proj.weight\n",
            "model.encoder.layers.3.self_attn.q_proj.bias\n",
            "model.encoder.layers.3.self_attn.out_proj.weight\n",
            "model.encoder.layers.3.self_attn.out_proj.bias\n",
            "model.encoder.layers.3.self_attn_layer_norm.weight\n",
            "model.encoder.layers.3.self_attn_layer_norm.bias\n",
            "model.encoder.layers.3.fc1.weight\n",
            "model.encoder.layers.3.fc1.bias\n",
            "model.encoder.layers.3.fc2.weight\n",
            "model.encoder.layers.3.fc2.bias\n",
            "model.encoder.layers.3.final_layer_norm.weight\n",
            "model.encoder.layers.3.final_layer_norm.bias\n",
            "model.encoder.layers.4.self_attn.k_proj.weight\n",
            "model.encoder.layers.4.self_attn.k_proj.bias\n",
            "model.encoder.layers.4.self_attn.v_proj.weight\n",
            "model.encoder.layers.4.self_attn.v_proj.bias\n",
            "model.encoder.layers.4.self_attn.q_proj.weight\n",
            "model.encoder.layers.4.self_attn.q_proj.bias\n",
            "model.encoder.layers.4.self_attn.out_proj.weight\n",
            "model.encoder.layers.4.self_attn.out_proj.bias\n",
            "model.encoder.layers.4.self_attn_layer_norm.weight\n",
            "model.encoder.layers.4.self_attn_layer_norm.bias\n",
            "model.encoder.layers.4.fc1.weight\n",
            "model.encoder.layers.4.fc1.bias\n",
            "model.encoder.layers.4.fc2.weight\n",
            "model.encoder.layers.4.fc2.bias\n",
            "model.encoder.layers.4.final_layer_norm.weight\n",
            "model.encoder.layers.4.final_layer_norm.bias\n",
            "model.encoder.layers.5.self_attn.k_proj.weight\n",
            "model.encoder.layers.5.self_attn.k_proj.bias\n",
            "model.encoder.layers.5.self_attn.v_proj.weight\n",
            "model.encoder.layers.5.self_attn.v_proj.bias\n",
            "model.encoder.layers.5.self_attn.q_proj.weight\n",
            "model.encoder.layers.5.self_attn.q_proj.bias\n",
            "model.encoder.layers.5.self_attn.out_proj.weight\n",
            "model.encoder.layers.5.self_attn.out_proj.bias\n",
            "model.encoder.layers.5.self_attn_layer_norm.weight\n",
            "model.encoder.layers.5.self_attn_layer_norm.bias\n",
            "model.encoder.layers.5.fc1.weight\n",
            "model.encoder.layers.5.fc1.bias\n",
            "model.encoder.layers.5.fc2.weight\n",
            "model.encoder.layers.5.fc2.bias\n",
            "model.encoder.layers.5.final_layer_norm.weight\n",
            "model.encoder.layers.5.final_layer_norm.bias\n",
            "model.decoder.embed_positions.weight\n",
            "model.decoder.layers.0.self_attn.k_proj.weight\n",
            "model.decoder.layers.0.self_attn.k_proj.bias\n",
            "model.decoder.layers.0.self_attn.v_proj.weight\n",
            "model.decoder.layers.0.self_attn.v_proj.bias\n",
            "model.decoder.layers.0.self_attn.q_proj.weight\n",
            "model.decoder.layers.0.self_attn.q_proj.bias\n",
            "model.decoder.layers.0.self_attn.out_proj.weight\n",
            "model.decoder.layers.0.self_attn.out_proj.bias\n",
            "model.decoder.layers.0.self_attn_layer_norm.weight\n",
            "model.decoder.layers.0.self_attn_layer_norm.bias\n",
            "model.decoder.layers.0.encoder_attn.k_proj.weight\n",
            "model.decoder.layers.0.encoder_attn.k_proj.bias\n",
            "model.decoder.layers.0.encoder_attn.v_proj.weight\n",
            "model.decoder.layers.0.encoder_attn.v_proj.bias\n",
            "model.decoder.layers.0.encoder_attn.q_proj.weight\n",
            "model.decoder.layers.0.encoder_attn.q_proj.bias\n",
            "model.decoder.layers.0.encoder_attn.out_proj.weight\n",
            "model.decoder.layers.0.encoder_attn.out_proj.bias\n",
            "model.decoder.layers.0.encoder_attn_layer_norm.weight\n",
            "model.decoder.layers.0.encoder_attn_layer_norm.bias\n",
            "model.decoder.layers.0.fc1.weight\n",
            "model.decoder.layers.0.fc1.bias\n",
            "model.decoder.layers.0.fc2.weight\n",
            "model.decoder.layers.0.fc2.bias\n",
            "model.decoder.layers.0.final_layer_norm.weight\n",
            "model.decoder.layers.0.final_layer_norm.bias\n",
            "model.decoder.layers.1.self_attn.k_proj.weight\n",
            "model.decoder.layers.1.self_attn.k_proj.bias\n",
            "model.decoder.layers.1.self_attn.v_proj.weight\n",
            "model.decoder.layers.1.self_attn.v_proj.bias\n",
            "model.decoder.layers.1.self_attn.q_proj.weight\n",
            "model.decoder.layers.1.self_attn.q_proj.bias\n",
            "model.decoder.layers.1.self_attn.out_proj.weight\n",
            "model.decoder.layers.1.self_attn.out_proj.bias\n",
            "model.decoder.layers.1.self_attn_layer_norm.weight\n",
            "model.decoder.layers.1.self_attn_layer_norm.bias\n",
            "model.decoder.layers.1.encoder_attn.k_proj.weight\n",
            "model.decoder.layers.1.encoder_attn.k_proj.bias\n",
            "model.decoder.layers.1.encoder_attn.v_proj.weight\n",
            "model.decoder.layers.1.encoder_attn.v_proj.bias\n",
            "model.decoder.layers.1.encoder_attn.q_proj.weight\n",
            "model.decoder.layers.1.encoder_attn.q_proj.bias\n",
            "model.decoder.layers.1.encoder_attn.out_proj.weight\n",
            "model.decoder.layers.1.encoder_attn.out_proj.bias\n",
            "model.decoder.layers.1.encoder_attn_layer_norm.weight\n",
            "model.decoder.layers.1.encoder_attn_layer_norm.bias\n",
            "model.decoder.layers.1.fc1.weight\n",
            "model.decoder.layers.1.fc1.bias\n",
            "model.decoder.layers.1.fc2.weight\n",
            "model.decoder.layers.1.fc2.bias\n",
            "model.decoder.layers.1.final_layer_norm.weight\n",
            "model.decoder.layers.1.final_layer_norm.bias\n",
            "model.decoder.layers.2.self_attn.k_proj.weight\n",
            "model.decoder.layers.2.self_attn.k_proj.bias\n",
            "model.decoder.layers.2.self_attn.v_proj.weight\n",
            "model.decoder.layers.2.self_attn.v_proj.bias\n",
            "model.decoder.layers.2.self_attn.q_proj.weight\n",
            "model.decoder.layers.2.self_attn.q_proj.bias\n",
            "model.decoder.layers.2.self_attn.out_proj.weight\n",
            "model.decoder.layers.2.self_attn.out_proj.bias\n",
            "model.decoder.layers.2.self_attn_layer_norm.weight\n",
            "model.decoder.layers.2.self_attn_layer_norm.bias\n",
            "model.decoder.layers.2.encoder_attn.k_proj.weight\n",
            "model.decoder.layers.2.encoder_attn.k_proj.bias\n",
            "model.decoder.layers.2.encoder_attn.v_proj.weight\n",
            "model.decoder.layers.2.encoder_attn.v_proj.bias\n",
            "model.decoder.layers.2.encoder_attn.q_proj.weight\n",
            "model.decoder.layers.2.encoder_attn.q_proj.bias\n",
            "model.decoder.layers.2.encoder_attn.out_proj.weight\n",
            "model.decoder.layers.2.encoder_attn.out_proj.bias\n",
            "model.decoder.layers.2.encoder_attn_layer_norm.weight\n",
            "model.decoder.layers.2.encoder_attn_layer_norm.bias\n",
            "model.decoder.layers.2.fc1.weight\n",
            "model.decoder.layers.2.fc1.bias\n",
            "model.decoder.layers.2.fc2.weight\n",
            "model.decoder.layers.2.fc2.bias\n",
            "model.decoder.layers.2.final_layer_norm.weight\n",
            "model.decoder.layers.2.final_layer_norm.bias\n",
            "model.decoder.layers.3.self_attn.k_proj.weight\n",
            "model.decoder.layers.3.self_attn.k_proj.bias\n",
            "model.decoder.layers.3.self_attn.v_proj.weight\n",
            "model.decoder.layers.3.self_attn.v_proj.bias\n",
            "model.decoder.layers.3.self_attn.q_proj.weight\n",
            "model.decoder.layers.3.self_attn.q_proj.bias\n",
            "model.decoder.layers.3.self_attn.out_proj.weight\n",
            "model.decoder.layers.3.self_attn.out_proj.bias\n",
            "model.decoder.layers.3.self_attn_layer_norm.weight\n",
            "model.decoder.layers.3.self_attn_layer_norm.bias\n",
            "model.decoder.layers.3.encoder_attn.k_proj.weight\n",
            "model.decoder.layers.3.encoder_attn.k_proj.bias\n",
            "model.decoder.layers.3.encoder_attn.v_proj.weight\n",
            "model.decoder.layers.3.encoder_attn.v_proj.bias\n",
            "model.decoder.layers.3.encoder_attn.q_proj.weight\n",
            "model.decoder.layers.3.encoder_attn.q_proj.bias\n",
            "model.decoder.layers.3.encoder_attn.out_proj.weight\n",
            "model.decoder.layers.3.encoder_attn.out_proj.bias\n",
            "model.decoder.layers.3.encoder_attn_layer_norm.weight\n",
            "model.decoder.layers.3.encoder_attn_layer_norm.bias\n",
            "model.decoder.layers.3.fc1.weight\n",
            "model.decoder.layers.3.fc1.bias\n",
            "model.decoder.layers.3.fc2.weight\n",
            "model.decoder.layers.3.fc2.bias\n",
            "model.decoder.layers.3.final_layer_norm.weight\n",
            "model.decoder.layers.3.final_layer_norm.bias\n",
            "model.decoder.layers.4.self_attn.k_proj.weight\n",
            "model.decoder.layers.4.self_attn.k_proj.bias\n",
            "model.decoder.layers.4.self_attn.v_proj.weight\n",
            "model.decoder.layers.4.self_attn.v_proj.bias\n",
            "model.decoder.layers.4.self_attn.q_proj.weight\n",
            "model.decoder.layers.4.self_attn.q_proj.bias\n",
            "model.decoder.layers.4.self_attn.out_proj.weight\n",
            "model.decoder.layers.4.self_attn.out_proj.bias\n",
            "model.decoder.layers.4.self_attn_layer_norm.weight\n",
            "model.decoder.layers.4.self_attn_layer_norm.bias\n",
            "model.decoder.layers.4.encoder_attn.k_proj.weight\n",
            "model.decoder.layers.4.encoder_attn.k_proj.bias\n",
            "model.decoder.layers.4.encoder_attn.v_proj.weight\n",
            "model.decoder.layers.4.encoder_attn.v_proj.bias\n",
            "model.decoder.layers.4.encoder_attn.q_proj.weight\n",
            "model.decoder.layers.4.encoder_attn.q_proj.bias\n",
            "model.decoder.layers.4.encoder_attn.out_proj.weight\n",
            "model.decoder.layers.4.encoder_attn.out_proj.bias\n",
            "model.decoder.layers.4.encoder_attn_layer_norm.weight\n",
            "model.decoder.layers.4.encoder_attn_layer_norm.bias\n",
            "model.decoder.layers.4.fc1.weight\n",
            "model.decoder.layers.4.fc1.bias\n",
            "model.decoder.layers.4.fc2.weight\n",
            "model.decoder.layers.4.fc2.bias\n",
            "model.decoder.layers.4.final_layer_norm.weight\n",
            "model.decoder.layers.4.final_layer_norm.bias\n",
            "model.decoder.layers.5.self_attn.k_proj.weight\n",
            "model.decoder.layers.5.self_attn.k_proj.bias\n",
            "model.decoder.layers.5.self_attn.v_proj.weight\n",
            "model.decoder.layers.5.self_attn.v_proj.bias\n",
            "model.decoder.layers.5.self_attn.q_proj.weight\n",
            "model.decoder.layers.5.self_attn.q_proj.bias\n",
            "model.decoder.layers.5.self_attn.out_proj.weight\n",
            "model.decoder.layers.5.self_attn.out_proj.bias\n",
            "model.decoder.layers.5.self_attn_layer_norm.weight\n",
            "model.decoder.layers.5.self_attn_layer_norm.bias\n",
            "model.decoder.layers.5.encoder_attn.k_proj.weight\n",
            "model.decoder.layers.5.encoder_attn.k_proj.bias\n",
            "model.decoder.layers.5.encoder_attn.v_proj.weight\n",
            "model.decoder.layers.5.encoder_attn.v_proj.bias\n",
            "model.decoder.layers.5.encoder_attn.q_proj.weight\n",
            "model.decoder.layers.5.encoder_attn.q_proj.bias\n",
            "model.decoder.layers.5.encoder_attn.out_proj.weight\n",
            "model.decoder.layers.5.encoder_attn.out_proj.bias\n",
            "model.decoder.layers.5.encoder_attn_layer_norm.weight\n",
            "model.decoder.layers.5.encoder_attn_layer_norm.bias\n",
            "model.decoder.layers.5.fc1.weight\n",
            "model.decoder.layers.5.fc1.bias\n",
            "model.decoder.layers.5.fc2.weight\n",
            "model.decoder.layers.5.fc2.bias\n",
            "model.decoder.layers.5.final_layer_norm.weight\n",
            "model.decoder.layers.5.final_layer_norm.bias\n"
          ]
        }
      ],
      "source": [
        "for name, param in model.named_parameters():\n",
        "    print(name)"
      ]
    },
    {
      "cell_type": "markdown",
      "id": "167a381f",
      "metadata": {
        "id": "167a381f"
      },
      "source": [
        "이미 학습된 모델을 통해 추론을 진행합니다.\n",
        "위의 실습에서 추론했던 것과는 다르게 학습된 모델이므로 성능이 더 높게 나타납니다."
      ]
    },
    {
      "cell_type": "code",
      "execution_count": 80,
      "id": "7f0ec813",
      "metadata": {
        "colab": {
          "base_uri": "https://localhost:8080/"
        },
        "id": "7f0ec813",
        "outputId": "5aa532f3-cd95-4532-c9f8-6526d73af49b"
      },
      "outputs": [
        {
          "output_type": "stream",
          "name": "stdout",
          "text": [
            "SRC: 나는 학교에 간다.\n",
            "MT : I'm going to school.\n"
          ]
        }
      ],
      "source": [
        "text = \"나는 학교에 간다.\"\n",
        "\"\"\"여기서는 batch로 입력을 처리하여 차원이 [seq_len]이 아닌 [batch_size, seq_len]입니다. 여기서는 입력이 한개이므로 [1, seq_len]입니다.\"\"\"\n",
        "encoded = tokenizer(text, return_tensors=\"pt\")\n",
        "\n",
        "generated_ids = model.generate(\n",
        "    **encoded,\n",
        "    max_new_tokens=64,\n",
        ")\n",
        "\n",
        "translation = tokenizer.decode(generated_ids.squeeze(), skip_special_tokens=True)\n",
        "print(\"SRC:\", text)\n",
        "print(\"MT :\", translation)"
      ]
    },
    {
      "cell_type": "markdown",
      "id": "0383cf9c",
      "metadata": {
        "id": "0383cf9c"
      },
      "source": [
        "# 5. 아키텍처별 모델 다뤄보기(Encoder model, Decoder model)\n",
        "\n",
        "- 학습 목표\n",
        "  1. huggingface 라이브러리를 이용하여 다양한 모델 구조의 모델을 다룰 수 있다.\n",
        "- 학습 개념\n",
        "  1. huggingface\n",
        "- 학습 내용\n",
        "  1. 문맥을 양방향으로 이해하는 데 강점이 있는 BERT 모델을 사용하여 문장의 빈칸([MASK])에 가장 적절한 단어를 추론\n",
        "  2. 이전 텍스트를 바탕으로 다음 텍스트를 생성하는 데 특화된 GPT-2 모델을 사용하여 이야기의 뒷부분을 창작\n",
        "\n",
        "지금까지는 Seq2Seq(Encoder - Decoder) 모델 구조를 다뤘습니다. 하지만, 현재 가장 많이 사용되는 모델은 Only Decoder 모델입니다.\n",
        "\n",
        "1. Only Encoder 모델 : BERT 같은 모델. RAG등 문서 검색에 주로 사용\n",
        "2. Only Decoder 모델 : Chat-GPT 같은 모델. 대화, 번역, 챗봇 등 현재 가장 많이 사용\n",
        "3. Encoder - Decoder 모델 : 최근에는 잘 사용하지 않음\n",
        "\n",
        "그러면 Only Encoder 모델과 Only Decoder 모델을 이용해 모델 추론을 해보겠습니다."
      ]
    },
    {
      "cell_type": "markdown",
      "id": "8039a153",
      "metadata": {
        "id": "8039a153"
      },
      "source": [
        "Encoder의 대표 모델인 BERT 모델을 불러옵니다."
      ]
    },
    {
      "cell_type": "code",
      "execution_count": 81,
      "id": "3ddc1fad",
      "metadata": {
        "colab": {
          "base_uri": "https://localhost:8080/"
        },
        "id": "3ddc1fad",
        "outputId": "764aafa9-32f0-4b9d-aa4d-517cc0db3666"
      },
      "outputs": [
        {
          "output_type": "stream",
          "name": "stderr",
          "text": [
            "Some weights of the model checkpoint at bert-base-cased were not used when initializing BertForMaskedLM: ['bert.pooler.dense.bias', 'bert.pooler.dense.weight', 'cls.seq_relationship.bias', 'cls.seq_relationship.weight']\n",
            "- This IS expected if you are initializing BertForMaskedLM from the checkpoint of a model trained on another task or with another architecture (e.g. initializing a BertForSequenceClassification model from a BertForPreTraining model).\n",
            "- This IS NOT expected if you are initializing BertForMaskedLM from the checkpoint of a model that you expect to be exactly identical (initializing a BertForSequenceClassification model from a BertForSequenceClassification model).\n"
          ]
        }
      ],
      "source": [
        "from transformers import AutoTokenizer, AutoModelForMaskedLM\n",
        "\n",
        "model_name = \"bert-base-cased\"\n",
        "tokenizer = AutoTokenizer.from_pretrained(model_name)\n",
        "model = AutoModelForMaskedLM.from_pretrained(model_name)"
      ]
    },
    {
      "cell_type": "markdown",
      "id": "4665108b",
      "metadata": {
        "id": "4665108b"
      },
      "source": [
        "BERT 모델을 이용하여 빈칸 맞추기(Masked Language Modeling)를 추론해봅니다.\n",
        "\n",
        "예를 들어, I [MASK] to school. 이라는 문장에서 [MASK]에 들어갈 단어를 맞춘다고 하면 I go to school. 이 문장이 정답이 됩니다.\n",
        "\n",
        "하지만, I went to school도 정답이 될 수 있습니다.\n",
        "\n",
        "이처럼 [MASK]에 들어갈 단어는 여러가지가 될 수 있고, 모델의 학습에 따라 어떤 단어가 [MASK]에 들어갈지 결정됩니다.\n",
        "\n",
        "이러한 특성을 이용하여 BERT 모델을 이용하여 빈칸 맞추기(`[MASK]`)를 추론해봅니다."
      ]
    },
    {
      "cell_type": "code",
      "execution_count": 82,
      "id": "4ce98fb7",
      "metadata": {
        "colab": {
          "base_uri": "https://localhost:8080/"
        },
        "id": "4ce98fb7",
        "outputId": "946a7182-d65c-451d-84e6-0e7b45f48a7b"
      },
      "outputs": [
        {
          "output_type": "stream",
          "name": "stdout",
          "text": [
            "원본 문장: I [MASK] to school.\n",
            "BERT가 예측한 문장들:\n",
            "1순위: went I to school.\n",
            "2순위: go I to school.\n",
            "3순위: walked I to school.\n",
            "4순위: ran I to school.\n",
            "5순위: got I to school.\n"
          ]
        }
      ],
      "source": [
        "# 4. 우리가 맞출 문장 만들기. tokenizer.mask_token = \"[MASK]\" 이 부분이 빈칸이 됨\n",
        "sentence = f\"I {tokenizer.mask_token} to school.\"\n",
        "\n",
        "top_k = 5  # 상위 5개 후보 단어를 보고 싶다\n",
        "\n",
        "# 5. 문장을 숫자로 바꿔서 BERT가 읽을 수 있게 준비\n",
        "encoded = tokenizer(sentence, return_tensors=\"pt\", return_attention_mask=True)\n",
        "\n",
        "# 6. 숫자로 된 문장 정보에서 '입력 토큰 ID' 꺼내기\n",
        "input_ids = encoded.input_ids\n",
        "\n",
        "# 7. [MASK]의 숫자 아이디 가져오기\n",
        "mask_token_id = tokenizer.mask_token_id\n",
        "\n",
        "# 8. 문장에서 [MASK]가 있는 위치(인덱스) 찾기 mask_positions는 (배치 번호, 문장 속 위치) 형태로 저장됨\n",
        "# TODO: 직접 구현해보세요!\n",
        "mask_positions = (input_ids == mask_token_id).nonzero(as_tuple=True)\n",
        "\n",
        "# 9. BERT 모델에 문장(숫자형태)을 넣어서 예측 결과(logits) 얻기\n",
        "outputs = model(**encoded)\n",
        "\n",
        "# 10. logits: 각 단어 위치마다 '다음 단어일 가능성'을 모든 단어 사전 크기만큼 기록한 값\n",
        "logits = outputs.logits.squeeze(0)  # (seq_len, vocab_size)\n",
        "\n",
        "# 11. 모든 [MASK] 위치에 대해 예측하기\n",
        "all_token_candidates: List[List[Tuple[str, float]]] = []\n",
        "# Iterate through the mask positions correctly\n",
        "for batch_index, pos in zip(mask_positions[0], mask_positions[1]):\n",
        "    pos = pos.item()  # 위치 숫자 꺼내기\n",
        "    logits_at_pos = logits[pos]  # 해당 위치의 예측 점수\n",
        "    probs = torch.softmax(logits_at_pos, dim=-1)  # 점수를 확률로 변환\n",
        "    topk = torch.topk(probs, k=top_k)  # 확률이 높은 상위 5개 선택\n",
        "\n",
        "    ids = topk.indices.tolist()   # 단어 ID\n",
        "    scores = topk.values.tolist() # 확률 값\n",
        "\n",
        "    # 단어 ID를 실제 단어(토큰)로 변환\n",
        "    tokens = [tokenizer.convert_ids_to_tokens(tid) for tid in ids]\n",
        "\n",
        "    # (단어, 확률) 형태로 묶어서 저장\n",
        "    candidates = list(zip(tokens, scores))\n",
        "    all_token_candidates.append(candidates)\n",
        "\n",
        "# 12. [MASK]에 들어갈 단어로 완성된 문장들을 저장할 리스트\n",
        "restored_sentences: List[str] = []\n",
        "\n",
        "# 13. 첫 번째 [MASK] 위치의 후보 단어들\n",
        "token_candidates: List[Tuple[str, float]] = all_token_candidates[0]\n",
        "\n",
        "# 14. 후보 단어들을 하나씩 넣어서 문장을 만들어 보기\n",
        "for tok, _ in token_candidates:\n",
        "    new_ids = input_ids.clone()  # 원래 문장의 숫자 복사\n",
        "    tok_id = tokenizer.convert_tokens_to_ids(tok)  # 후보 단어를 숫자로 변환\n",
        "    # Use the correct index for the position\n",
        "    new_ids[0, mask_positions[0][0]] = tok_id      # [MASK] 위치에 후보 단어 ID 넣기\n",
        "    text = tokenizer.decode(new_ids[0], skip_special_tokens=True)  # 다시 글자로 변환\n",
        "    restored_sentences.append(text.strip())  # 앞뒤 공백 제거 후 저장\n",
        "\n",
        "# 15. 결과 출력\n",
        "print(\"원본 문장:\", sentence)\n",
        "print(\"BERT가 예측한 문장들:\")\n",
        "for idx, sent in enumerate(restored_sentences, start=1):\n",
        "    print(\"{}순위: {}\".format(idx, sent))"
      ]
    },
    {
      "cell_type": "markdown",
      "id": "be9e04c7",
      "metadata": {
        "id": "be9e04c7"
      },
      "source": [
        "Only Decoder 모델의 대표인 GPT 모델을 이용하여 추론을 해보겠습니다.\n",
        "\n",
        "GPT-2 모델을 불러옵니다."
      ]
    },
    {
      "cell_type": "code",
      "execution_count": 83,
      "id": "6a49ab04",
      "metadata": {
        "id": "6a49ab04"
      },
      "outputs": [],
      "source": [
        "import torch\n",
        "from transformers import AutoModelForCausalLM, AutoTokenizer\n",
        "\n",
        "model_name = \"gpt2\"\n",
        "tokenizer = AutoTokenizer.from_pretrained(model_name)\n",
        "model = AutoModelForCausalLM.from_pretrained(model_name)"
      ]
    },
    {
      "cell_type": "markdown",
      "id": "0feb32c0",
      "metadata": {
        "id": "0feb32c0"
      },
      "source": [
        "GPT-2 모델은 입력으로 토큰화된 텍스트를 받고, 그 뒤에 올 단어들을 예측(Next token Prediction)하는 것이 목표입니다.\n",
        "\n",
        "아래 코드를 이용하여 스토리(입력 텍스트)의 뒷 내용을 생성해보겠습니다."
      ]
    },
    {
      "cell_type": "code",
      "execution_count": 84,
      "id": "33182f00",
      "metadata": {
        "colab": {
          "base_uri": "https://localhost:8080/"
        },
        "id": "33182f00",
        "outputId": "c1b8b5d2-b39d-4650-f424-7dcccbc88d70"
      },
      "outputs": [
        {
          "output_type": "stream",
          "name": "stderr",
          "text": [
            "Setting `pad_token_id` to `eos_token_id`:50256 for open-end generation.\n"
          ]
        },
        {
          "output_type": "stream",
          "name": "stdout",
          "text": [
            "Once upon a time in a small village, a curious child found a mysterious key. The child was a boy named Kiyoshi. He was a boy who had been born with a strange, mysterious, and mysterious voice. He was a boy who had been born with a strange, mysterious, and mysterious voice. He was a boy who had been born with a strange, mysterious, and mysterious voice.\n"
          ]
        }
      ],
      "source": [
        "prompt = \"Once upon a time in a small village, a curious child found a mysterious key.\"\n",
        "inputs = tokenizer(prompt, return_tensors=\"pt\")\n",
        "\n",
        "with torch.no_grad():\n",
        "    generated_ids = model.generate(\n",
        "        **inputs,\n",
        "        max_new_tokens=64,\n",
        "    )\n",
        "\n",
        "output_tokens = tokenizer.decode(generated_ids.squeeze(), skip_special_tokens=True)\n",
        "print(output_tokens)"
      ]
    }
  ],
  "metadata": {
    "kernelspec": {
      "display_name": "Python 3",
      "language": "python",
      "name": "python3"
    },
    "language_info": {
      "codemirror_mode": {
        "name": "ipython",
        "version": 3
      },
      "file_extension": ".py",
      "mimetype": "text/x-python",
      "name": "python",
      "nbconvert_exporter": "python",
      "pygments_lexer": "ipython3",
      "version": "3.11.9"
    },
    "colab": {
      "provenance": [],
      "include_colab_link": true
    }
  },
  "nbformat": 4,
  "nbformat_minor": 5
}